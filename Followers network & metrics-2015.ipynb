{
 "cells": [
  {
   "cell_type": "code",
   "execution_count": 1,
   "metadata": {},
   "outputs": [],
   "source": [
    "from IPython.core.interactiveshell import InteractiveShell\n",
    "InteractiveShell.ast_node_interactivity = \"all\"\n",
    "import matplotlib.pyplot as plt\n",
    "import networkx as nx  \n",
    "import pandas as pd\n",
    "import numpy as np\n",
    "import gc\n"
   ]
  },
  {
   "cell_type": "code",
   "execution_count": 2,
   "metadata": {},
   "outputs": [
    {
     "name": "stderr",
     "output_type": "stream",
     "text": [
      "C:\\Users\\zyan\\Anaconda3\\lib\\site-packages\\numpy\\lib\\arraysetops.py:569: FutureWarning: elementwise comparison failed; returning scalar instead, but in the future will perform elementwise comparison\n",
      "  mask |= (ar1 == a)\n"
     ]
    }
   ],
   "source": [
    "#LOAD DATA FROM CSV\n",
    "# followers\n",
    "df_f = pd.read_csv(r'.\\2015\\df_f.csv', index_col=0, dtype = {'user_id':'str','follower_id':'str'} )\n"
   ]
  },
  {
   "cell_type": "code",
   "execution_count": 3,
   "metadata": {},
   "outputs": [
    {
     "data": {
      "text/html": [
       "<div>\n",
       "<style scoped>\n",
       "    .dataframe tbody tr th:only-of-type {\n",
       "        vertical-align: middle;\n",
       "    }\n",
       "\n",
       "    .dataframe tbody tr th {\n",
       "        vertical-align: top;\n",
       "    }\n",
       "\n",
       "    .dataframe thead th {\n",
       "        text-align: right;\n",
       "    }\n",
       "</style>\n",
       "<table border=\"1\" class=\"dataframe\">\n",
       "  <thead>\n",
       "    <tr style=\"text-align: right;\">\n",
       "      <th></th>\n",
       "      <th>user_id</th>\n",
       "      <th>follower_id</th>\n",
       "    </tr>\n",
       "  </thead>\n",
       "  <tbody>\n",
       "    <tr>\n",
       "      <th>0</th>\n",
       "      <td>2</td>\n",
       "      <td>1</td>\n",
       "    </tr>\n",
       "    <tr>\n",
       "      <th>1</th>\n",
       "      <td>4</td>\n",
       "      <td>1</td>\n",
       "    </tr>\n",
       "    <tr>\n",
       "      <th>2</th>\n",
       "      <td>6</td>\n",
       "      <td>1</td>\n",
       "    </tr>\n",
       "    <tr>\n",
       "      <th>3</th>\n",
       "      <td>2695</td>\n",
       "      <td>1</td>\n",
       "    </tr>\n",
       "    <tr>\n",
       "      <th>4</th>\n",
       "      <td>2711</td>\n",
       "      <td>1</td>\n",
       "    </tr>\n",
       "  </tbody>\n",
       "</table>\n",
       "</div>"
      ],
      "text/plain": [
       "  user_id follower_id\n",
       "0       2           1\n",
       "1       4           1\n",
       "2       6           1\n",
       "3    2695           1\n",
       "4    2711           1"
      ]
     },
     "execution_count": 3,
     "metadata": {},
     "output_type": "execute_result"
    }
   ],
   "source": [
    "df_f.head()"
   ]
  },
  {
   "cell_type": "code",
   "execution_count": 4,
   "metadata": {},
   "outputs": [],
   "source": [
    "#LOAD DATA FROM CSV\n",
    "#user id's\n",
    "df_u = pd.read_csv(r'.\\2015\\df_u.csv', index_col=0, dtype = {'id':'str','login':'str','type':'str', 'fake':'str', 'deleted':'str'} )"
   ]
  },
  {
   "cell_type": "code",
   "execution_count": 5,
   "metadata": {},
   "outputs": [
    {
     "data": {
      "text/html": [
       "<div>\n",
       "<style scoped>\n",
       "    .dataframe tbody tr th:only-of-type {\n",
       "        vertical-align: middle;\n",
       "    }\n",
       "\n",
       "    .dataframe tbody tr th {\n",
       "        vertical-align: top;\n",
       "    }\n",
       "\n",
       "    .dataframe thead th {\n",
       "        text-align: right;\n",
       "    }\n",
       "</style>\n",
       "<table border=\"1\" class=\"dataframe\">\n",
       "  <thead>\n",
       "    <tr style=\"text-align: right;\">\n",
       "      <th></th>\n",
       "      <th>id</th>\n",
       "      <th>login</th>\n",
       "      <th>type</th>\n",
       "      <th>fake</th>\n",
       "      <th>deleted</th>\n",
       "    </tr>\n",
       "  </thead>\n",
       "  <tbody>\n",
       "    <tr>\n",
       "      <th>0</th>\n",
       "      <td>1</td>\n",
       "      <td>tosch</td>\n",
       "      <td>USR</td>\n",
       "      <td>0</td>\n",
       "      <td>0</td>\n",
       "    </tr>\n",
       "    <tr>\n",
       "      <th>1</th>\n",
       "      <td>2</td>\n",
       "      <td>jmettraux</td>\n",
       "      <td>USR</td>\n",
       "      <td>0</td>\n",
       "      <td>0</td>\n",
       "    </tr>\n",
       "    <tr>\n",
       "      <th>2</th>\n",
       "      <td>3</td>\n",
       "      <td>SMGNMSKD</td>\n",
       "      <td>USR</td>\n",
       "      <td>1</td>\n",
       "      <td>0</td>\n",
       "    </tr>\n",
       "    <tr>\n",
       "      <th>3</th>\n",
       "      <td>4</td>\n",
       "      <td>kennethkalmer</td>\n",
       "      <td>USR</td>\n",
       "      <td>0</td>\n",
       "      <td>0</td>\n",
       "    </tr>\n",
       "    <tr>\n",
       "      <th>4</th>\n",
       "      <td>5</td>\n",
       "      <td>weppos</td>\n",
       "      <td>USR</td>\n",
       "      <td>0</td>\n",
       "      <td>0</td>\n",
       "    </tr>\n",
       "  </tbody>\n",
       "</table>\n",
       "</div>"
      ],
      "text/plain": [
       "  id          login type fake deleted\n",
       "0  1          tosch  USR    0       0\n",
       "1  2      jmettraux  USR    0       0\n",
       "2  3       SMGNMSKD  USR    1       0\n",
       "3  4  kennethkalmer  USR    0       0\n",
       "4  5         weppos  USR    0       0"
      ]
     },
     "execution_count": 5,
     "metadata": {},
     "output_type": "execute_result"
    }
   ],
   "source": [
    "df_u.head()"
   ]
  },
  {
   "cell_type": "markdown",
   "metadata": {},
   "source": [
    "### Create the directed graph"
   ]
  },
  {
   "cell_type": "code",
   "execution_count": 6,
   "metadata": {},
   "outputs": [],
   "source": [
    "# the directed graph maps the direction as: [follower --> user]\n",
    "# therefore, we need to swap the columns\n",
    "df_temp = df_f.reindex(columns=['follower_id', 'user_id']).copy()"
   ]
  },
  {
   "cell_type": "code",
   "execution_count": 8,
   "metadata": {},
   "outputs": [],
   "source": [
    "del df_f"
   ]
  },
  {
   "cell_type": "code",
   "execution_count": 10,
   "metadata": {},
   "outputs": [
    {
     "data": {
      "text/plain": [
       "20"
      ]
     },
     "execution_count": 10,
     "metadata": {},
     "output_type": "execute_result"
    },
    {
     "data": {
      "text/plain": [
       "0"
      ]
     },
     "execution_count": 10,
     "metadata": {},
     "output_type": "execute_result"
    }
   ],
   "source": [
    "gc.collect()\n",
    "gc.collect()"
   ]
  },
  {
   "cell_type": "code",
   "execution_count": 11,
   "metadata": {},
   "outputs": [],
   "source": [
    "#create empty directed Graph\n",
    "followers_graph = nx.DiGraph()"
   ]
  },
  {
   "cell_type": "code",
   "execution_count": 12,
   "metadata": {},
   "outputs": [],
   "source": [
    "# fill  the directed graph using the dataframe as a list\n",
    "followers_graph.add_edges_from(df_temp.values.tolist())"
   ]
  },
  {
   "cell_type": "code",
   "execution_count": 13,
   "metadata": {},
   "outputs": [
    {
     "name": "stdout",
     "output_type": "stream",
     "text": [
      "Name: \n",
      "Type: DiGraph\n",
      "Number of nodes: 1556637\n",
      "Number of edges: 7022950\n",
      "Average in degree:   4.5116\n",
      "Average out degree:   4.5116\n"
     ]
    }
   ],
   "source": [
    "print(nx.info(followers_graph))"
   ]
  },
  {
   "cell_type": "code",
   "execution_count": null,
   "metadata": {},
   "outputs": [],
   "source": [
    "#plt.figure(figsize=(20,14))\n",
    "#nx.draw(followers_graph, pos=nx.spring_layout(followers_graph), node_color='lightblue',\n",
    "#    linewidths=0.25, font_size=10, font_weight='light', with_labels=True, dpi=2000)\n",
    "#plt.show()\n"
   ]
  },
  {
   "cell_type": "code",
   "execution_count": null,
   "metadata": {},
   "outputs": [],
   "source": [
    "#save image\n",
    "#plt.savefig('followers-network.png', format='png', dpi=1200)"
   ]
  },
  {
   "cell_type": "markdown",
   "metadata": {},
   "source": [
    "### Some statistics"
   ]
  },
  {
   "cell_type": "code",
   "execution_count": 14,
   "metadata": {},
   "outputs": [
    {
     "name": "stdout",
     "output_type": "stream",
     "text": [
      "Strongly Connected Components =  992176\n"
     ]
    }
   ],
   "source": [
    "print (\"Strongly Connected Components = \", nx.number_strongly_connected_components(followers_graph) )"
   ]
  },
  {
   "cell_type": "code",
   "execution_count": 15,
   "metadata": {},
   "outputs": [
    {
     "name": "stdout",
     "output_type": "stream",
     "text": [
      "Weakly connected components =  62867\n"
     ]
    }
   ],
   "source": [
    "print (\"Weakly connected components = \", nx.number_weakly_connected_components(followers_graph) )"
   ]
  },
  {
   "cell_type": "markdown",
   "metadata": {},
   "source": [
    "### Utility functions"
   ]
  },
  {
   "cell_type": "code",
   "execution_count": 16,
   "metadata": {},
   "outputs": [],
   "source": [
    "# returns 4 dictionaries:\n",
    "# in_deg_freq --> (key=in_degree value, value=count of nodes with that degree)\n",
    "# all_in_deg  --> (key=node id, value=degree of node) (native function of NetworkX does not return a dictionary)\n",
    "# out_deg_freq--> (key=in_degree value, value=count of nodes with that degree)\n",
    "# all_out_deg --> (key=node id, value=degree of node) (native function of NetworkX does not return a dictionary)\n",
    "\n",
    "def degree_freq(graph):\n",
    "    in_deg_freq = {}\n",
    "    all_in_deg ={}\n",
    "\n",
    "    out_deg_freq = {}\n",
    "    all_out_deg ={}\n",
    "    \n",
    "    for n in graph.nodes():\n",
    "        in_deg = graph.in_degree(n)\n",
    "        out_deg= graph.out_degree(n)\n",
    "        \n",
    "        all_in_deg[n] = in_deg\n",
    "        all_out_deg[n]= out_deg\n",
    "        \n",
    "        if in_deg not in in_deg_freq:\n",
    "            in_deg_freq[in_deg] = 0\n",
    "        in_deg_freq[in_deg]+= 1\n",
    "        \n",
    "        if out_deg not in out_deg_freq:\n",
    "            out_deg_freq[out_deg] = 0\n",
    "        out_deg_freq[out_deg]+= 1      \n",
    "    \n",
    "    return in_deg_freq, all_in_deg, out_deg_freq, all_out_deg"
   ]
  },
  {
   "cell_type": "code",
   "execution_count": 17,
   "metadata": {},
   "outputs": [],
   "source": [
    "# calculates some statistics\n",
    "in_deg_freq, all_in_deg, out_deg_freq, all_out_deg = degree_freq(followers_graph)"
   ]
  },
  {
   "cell_type": "code",
   "execution_count": 18,
   "metadata": {},
   "outputs": [],
   "source": [
    "#parses list of indegree values and outdegree values\n",
    "idf = (sorted(in_deg_freq.items()))\n",
    "odf = (sorted(out_deg_freq.items()))"
   ]
  },
  {
   "cell_type": "code",
   "execution_count": 19,
   "metadata": {},
   "outputs": [
    {
     "data": {
      "text/plain": [
       "<Figure size 1080x720 with 0 Axes>"
      ]
     },
     "execution_count": 19,
     "metadata": {},
     "output_type": "execute_result"
    },
    {
     "data": {
      "text/plain": [
       "[<matplotlib.lines.Line2D at 0x93f5bef0>]"
      ]
     },
     "execution_count": 19,
     "metadata": {},
     "output_type": "execute_result"
    },
    {
     "data": {
      "text/plain": [
       "[<matplotlib.lines.Line2D at 0x93f5bbe0>]"
      ]
     },
     "execution_count": 19,
     "metadata": {},
     "output_type": "execute_result"
    },
    {
     "data": {
      "text/plain": [
       "<matplotlib.legend.Legend at 0x1755a4860>"
      ]
     },
     "execution_count": 19,
     "metadata": {},
     "output_type": "execute_result"
    },
    {
     "data": {
      "text/plain": [
       "Text(0.5, 0, 'Degree')"
      ]
     },
     "execution_count": 19,
     "metadata": {},
     "output_type": "execute_result"
    },
    {
     "data": {
      "text/plain": [
       "Text(0, 0.5, 'Number of nodes')"
      ]
     },
     "execution_count": 19,
     "metadata": {},
     "output_type": "execute_result"
    },
    {
     "data": {
      "text/plain": [
       "Text(0.5, 1.0, 'Followers network in Github')"
      ]
     },
     "execution_count": 19,
     "metadata": {},
     "output_type": "execute_result"
    },
    {
     "data": {
      "image/png": "[encoded data removed]",
      "text/plain": [
       "<Figure size 1080x720 with 1 Axes>"
      ]
     },
     "metadata": {
      "needs_background": "light"
     },
     "output_type": "display_data"
    }
   ],
   "source": [
    "#plot degree frequency\n",
    "\n",
    "plt.figure(figsize =(15, 10))\n",
    "plt.grid(True)\n",
    "plt.loglog([k for (k,v) in idf], [v for (k,v ) in idf], 'r-') # in-degree\n",
    "plt.loglog([k for (k,v) in odf],[v for (k,v ) in odf], 'b-')  # out-degree\n",
    "plt.legend(['In-degree', 'Out-degree'])\n",
    "plt.xlabel('Degree')\n",
    "plt.ylabel('Number of nodes')\n",
    "plt.title('Followers network in Github')\n"
   ]
  },
  {
   "cell_type": "code",
   "execution_count": 20,
   "metadata": {},
   "outputs": [
    {
     "data": {
      "text/plain": [
       "<Figure size 432x288 with 0 Axes>"
      ]
     },
     "metadata": {},
     "output_type": "display_data"
    }
   ],
   "source": [
    "# save generated image\n",
    "plt.savefig(r'.\\2015\\degree_freq_2015.png')"
   ]
  },
  {
   "cell_type": "markdown",
   "metadata": {},
   "source": [
    "### Calculate Page Rank"
   ]
  },
  {
   "cell_type": "code",
   "execution_count": 21,
   "metadata": {},
   "outputs": [],
   "source": [
    "# calculates page rank over the whole network of users / followers\n",
    "# the function returns a dictionary\n",
    "page_rank = nx.pagerank(followers_graph)"
   ]
  },
  {
   "cell_type": "code",
   "execution_count": 22,
   "metadata": {},
   "outputs": [],
   "source": [
    "# More utility functions\n",
    "\n",
    "#Given a dictionary, orders it by key (descending order) and returns a list of tuples, with it's N-top keys and values\n",
    "def get_top_keys(dictionary, top):\n",
    "    item = list(reversed(sorted(dictionary.items())))\n",
    "    return item[:top]\n",
    "\n",
    "#Given a dictionary, orders it by value (descending order) and returns a\n",
    "# smaller dictionary with the N-top keys and values\n",
    "def get_top_values(d, t):\n",
    "    new_d={}\n",
    "    sorted_keys = sorted(d, key=d.get, reverse=True)\n",
    "    \n",
    "    for x in sorted_keys[:t]:\n",
    "        new_d[x] = d[x]\n",
    "\n",
    "    return new_d"
   ]
  },
  {
   "cell_type": "code",
   "execution_count": 26,
   "metadata": {},
   "outputs": [],
   "source": [
    "#save result in csv\n",
    "pd.DataFrame.from_dict(data=page_rank, orient='index').to_csv(r'.\\2015\\page_rank.csv')"
   ]
  },
  {
   "cell_type": "code",
   "execution_count": 27,
   "metadata": {},
   "outputs": [
    {
     "name": "stdout",
     "output_type": "stream",
     "text": [
      "dict_keys(['3564691', '2755100', '1631799', '2061191', '4082399', '827248', '5956845', '10561', '37617', '13431'])\n"
     ]
    }
   ],
   "source": [
    "# calculate top users with highest page rank values\n",
    "top_page_rank = get_top_values(page_rank, 10)\n",
    "\n",
    "print(top_page_rank.keys())\n"
   ]
  },
  {
   "cell_type": "code",
   "execution_count": 28,
   "metadata": {},
   "outputs": [
    {
     "data": {
      "text/html": [
       "<div>\n",
       "<style scoped>\n",
       "    .dataframe tbody tr th:only-of-type {\n",
       "        vertical-align: middle;\n",
       "    }\n",
       "\n",
       "    .dataframe tbody tr th {\n",
       "        vertical-align: top;\n",
       "    }\n",
       "\n",
       "    .dataframe thead th {\n",
       "        text-align: right;\n",
       "    }\n",
       "</style>\n",
       "<table border=\"1\" class=\"dataframe\">\n",
       "  <thead>\n",
       "    <tr style=\"text-align: right;\">\n",
       "      <th></th>\n",
       "      <th>id</th>\n",
       "      <th>login</th>\n",
       "      <th>type</th>\n",
       "      <th>fake</th>\n",
       "      <th>deleted</th>\n",
       "    </tr>\n",
       "  </thead>\n",
       "  <tbody>\n",
       "    <tr>\n",
       "      <th>10184</th>\n",
       "      <td>10561</td>\n",
       "      <td>h4ck3rm1k3</td>\n",
       "      <td>USR</td>\n",
       "      <td>0</td>\n",
       "      <td>0</td>\n",
       "    </tr>\n",
       "    <tr>\n",
       "      <th>12934</th>\n",
       "      <td>13431</td>\n",
       "      <td>chovy</td>\n",
       "      <td>USR</td>\n",
       "      <td>0</td>\n",
       "      <td>0</td>\n",
       "    </tr>\n",
       "    <tr>\n",
       "      <th>35687</th>\n",
       "      <td>37617</td>\n",
       "      <td>STRd6</td>\n",
       "      <td>USR</td>\n",
       "      <td>0</td>\n",
       "      <td>0</td>\n",
       "    </tr>\n",
       "    <tr>\n",
       "      <th>700212</th>\n",
       "      <td>827248</td>\n",
       "      <td>csjaba</td>\n",
       "      <td>USR</td>\n",
       "      <td>0</td>\n",
       "      <td>0</td>\n",
       "    </tr>\n",
       "    <tr>\n",
       "      <th>1443760</th>\n",
       "      <td>1631799</td>\n",
       "      <td>fordream</td>\n",
       "      <td>USR</td>\n",
       "      <td>0</td>\n",
       "      <td>0</td>\n",
       "    </tr>\n",
       "    <tr>\n",
       "      <th>1854215</th>\n",
       "      <td>2061191</td>\n",
       "      <td>hehead</td>\n",
       "      <td>USR</td>\n",
       "      <td>0</td>\n",
       "      <td>0</td>\n",
       "    </tr>\n",
       "    <tr>\n",
       "      <th>2518428</th>\n",
       "      <td>2755100</td>\n",
       "      <td>threejs-cn</td>\n",
       "      <td>USR</td>\n",
       "      <td>0</td>\n",
       "      <td>0</td>\n",
       "    </tr>\n",
       "    <tr>\n",
       "      <th>3311357</th>\n",
       "      <td>3564691</td>\n",
       "      <td>martinstojcevski5</td>\n",
       "      <td>USR</td>\n",
       "      <td>0</td>\n",
       "      <td>0</td>\n",
       "    </tr>\n",
       "    <tr>\n",
       "      <th>3768486</th>\n",
       "      <td>4082399</td>\n",
       "      <td>arrival</td>\n",
       "      <td>USR</td>\n",
       "      <td>0</td>\n",
       "      <td>0</td>\n",
       "    </tr>\n",
       "    <tr>\n",
       "      <th>4752949</th>\n",
       "      <td>5956845</td>\n",
       "      <td>4148</td>\n",
       "      <td>USR</td>\n",
       "      <td>0</td>\n",
       "      <td>0</td>\n",
       "    </tr>\n",
       "  </tbody>\n",
       "</table>\n",
       "</div>"
      ],
      "text/plain": [
       "              id              login type fake deleted\n",
       "10184      10561         h4ck3rm1k3  USR    0       0\n",
       "12934      13431              chovy  USR    0       0\n",
       "35687      37617              STRd6  USR    0       0\n",
       "700212    827248             csjaba  USR    0       0\n",
       "1443760  1631799           fordream  USR    0       0\n",
       "1854215  2061191             hehead  USR    0       0\n",
       "2518428  2755100         threejs-cn  USR    0       0\n",
       "3311357  3564691  martinstojcevski5  USR    0       0\n",
       "3768486  4082399            arrival  USR    0       0\n",
       "4752949  5956845               4148  USR    0       0"
      ]
     },
     "execution_count": 28,
     "metadata": {},
     "output_type": "execute_result"
    }
   ],
   "source": [
    "# identify the user names found in top rank\n",
    "df_u.loc [ df_u['id'].isin( top_page_rank.keys() )]"
   ]
  },
  {
   "cell_type": "markdown",
   "metadata": {},
   "source": [
    "### Calculate HITS"
   ]
  },
  {
   "cell_type": "code",
   "execution_count": 29,
   "metadata": {},
   "outputs": [],
   "source": [
    "#calculates Hubs and Authorities, returns two dictionaries\n",
    "hubs, auth = nx.hits(followers_graph)"
   ]
  },
  {
   "cell_type": "code",
   "execution_count": 30,
   "metadata": {},
   "outputs": [
    {
     "name": "stdout",
     "output_type": "stream",
     "text": [
      "1556637\n"
     ]
    }
   ],
   "source": [
    "print (len(hubs))"
   ]
  },
  {
   "cell_type": "code",
   "execution_count": 31,
   "metadata": {},
   "outputs": [
    {
     "name": "stdout",
     "output_type": "stream",
     "text": [
      "1556637\n"
     ]
    }
   ],
   "source": [
    "print (len(auth))"
   ]
  },
  {
   "cell_type": "code",
   "execution_count": 32,
   "metadata": {},
   "outputs": [],
   "source": [
    "#save results in a csv file\n",
    "(pd.DataFrame.from_dict(data=hubs, orient='index').to_csv(r'.\\2015\\hubs.csv'))\n",
    "(pd.DataFrame.from_dict(data=auth, orient='index').to_csv(r'.\\2015\\auth.csv'))"
   ]
  },
  {
   "cell_type": "code",
   "execution_count": 33,
   "metadata": {},
   "outputs": [
    {
     "name": "stdout",
     "output_type": "stream",
     "text": [
      "{'5203': 0.0010805389588574715, '376498': 0.0010799024864216712, '1779': 0.0010726456777581659, '9236': 0.0010488577041931684, '1954': 0.000987495353442257, '1570': 0.0009374323971436608, '6240': 0.0007845351265363139, '24452': 0.0007218026639443093, '1736': 0.0007039756829192942, '1199': 0.000659694793737111}\n"
     ]
    }
   ],
   "source": [
    "top_hubs = get_top_values(hubs, 10)\n",
    "\n",
    "print(top_hubs)\n"
   ]
  },
  {
   "cell_type": "code",
   "execution_count": 34,
   "metadata": {},
   "outputs": [
    {
     "data": {
      "text/html": [
       "<div>\n",
       "<style scoped>\n",
       "    .dataframe tbody tr th:only-of-type {\n",
       "        vertical-align: middle;\n",
       "    }\n",
       "\n",
       "    .dataframe tbody tr th {\n",
       "        vertical-align: top;\n",
       "    }\n",
       "\n",
       "    .dataframe thead th {\n",
       "        text-align: right;\n",
       "    }\n",
       "</style>\n",
       "<table border=\"1\" class=\"dataframe\">\n",
       "  <thead>\n",
       "    <tr style=\"text-align: right;\">\n",
       "      <th></th>\n",
       "      <th>id</th>\n",
       "      <th>login</th>\n",
       "      <th>type</th>\n",
       "      <th>fake</th>\n",
       "      <th>deleted</th>\n",
       "    </tr>\n",
       "  </thead>\n",
       "  <tbody>\n",
       "    <tr>\n",
       "      <th>1117</th>\n",
       "      <td>1199</td>\n",
       "      <td>substack</td>\n",
       "      <td>USR</td>\n",
       "      <td>0</td>\n",
       "      <td>0</td>\n",
       "    </tr>\n",
       "    <tr>\n",
       "      <th>1485</th>\n",
       "      <td>1570</td>\n",
       "      <td>defunkt</td>\n",
       "      <td>USR</td>\n",
       "      <td>0</td>\n",
       "      <td>0</td>\n",
       "    </tr>\n",
       "    <tr>\n",
       "      <th>1650</th>\n",
       "      <td>1736</td>\n",
       "      <td>douglascrockford</td>\n",
       "      <td>USR</td>\n",
       "      <td>0</td>\n",
       "      <td>0</td>\n",
       "    </tr>\n",
       "    <tr>\n",
       "      <th>1692</th>\n",
       "      <td>1779</td>\n",
       "      <td>paulirish</td>\n",
       "      <td>USR</td>\n",
       "      <td>0</td>\n",
       "      <td>0</td>\n",
       "    </tr>\n",
       "    <tr>\n",
       "      <th>1798</th>\n",
       "      <td>1954</td>\n",
       "      <td>visionmedia</td>\n",
       "      <td>USR</td>\n",
       "      <td>0</td>\n",
       "      <td>0</td>\n",
       "    </tr>\n",
       "    <tr>\n",
       "      <th>4966</th>\n",
       "      <td>5203</td>\n",
       "      <td>torvalds</td>\n",
       "      <td>USR</td>\n",
       "      <td>0</td>\n",
       "      <td>0</td>\n",
       "    </tr>\n",
       "    <tr>\n",
       "      <th>5973</th>\n",
       "      <td>6240</td>\n",
       "      <td>addyosmani</td>\n",
       "      <td>USR</td>\n",
       "      <td>0</td>\n",
       "      <td>0</td>\n",
       "    </tr>\n",
       "    <tr>\n",
       "      <th>8885</th>\n",
       "      <td>9236</td>\n",
       "      <td>mojombo</td>\n",
       "      <td>USR</td>\n",
       "      <td>0</td>\n",
       "      <td>0</td>\n",
       "    </tr>\n",
       "    <tr>\n",
       "      <th>23536</th>\n",
       "      <td>24452</td>\n",
       "      <td>jeresig</td>\n",
       "      <td>USR</td>\n",
       "      <td>0</td>\n",
       "      <td>0</td>\n",
       "    </tr>\n",
       "    <tr>\n",
       "      <th>344193</th>\n",
       "      <td>376498</td>\n",
       "      <td>Tj</td>\n",
       "      <td>USR</td>\n",
       "      <td>0</td>\n",
       "      <td>0</td>\n",
       "    </tr>\n",
       "  </tbody>\n",
       "</table>\n",
       "</div>"
      ],
      "text/plain": [
       "            id             login type fake deleted\n",
       "1117      1199          substack  USR    0       0\n",
       "1485      1570           defunkt  USR    0       0\n",
       "1650      1736  douglascrockford  USR    0       0\n",
       "1692      1779         paulirish  USR    0       0\n",
       "1798      1954       visionmedia  USR    0       0\n",
       "4966      5203          torvalds  USR    0       0\n",
       "5973      6240        addyosmani  USR    0       0\n",
       "8885      9236           mojombo  USR    0       0\n",
       "23536    24452           jeresig  USR    0       0\n",
       "344193  376498                Tj  USR    0       0"
      ]
     },
     "execution_count": 34,
     "metadata": {},
     "output_type": "execute_result"
    }
   ],
   "source": [
    "# identify the user names found in top hubs\n",
    "df_u.loc [ df_u['id'].isin( top_hubs.keys() )]"
   ]
  },
  {
   "cell_type": "code",
   "execution_count": 35,
   "metadata": {},
   "outputs": [
    {
     "name": "stdout",
     "output_type": "stream",
     "text": [
      "{'58': 0.001029702871214184, '2755100': 0.0009996766398117454, '3564691': 0.0008376906657431941, '827248': 0.0007636197756196144, '302': 0.0007479036520600018, '13431': 0.0006068635147349321, '1631799': 0.000581919739467671, '44782': 0.0004369407460987627, '2313223': 0.0003855324365872052, '2774706': 0.00038153321793963084}\n"
     ]
    }
   ],
   "source": [
    "top_auths = get_top_values(auth, 10)\n",
    "\n",
    "print(top_auths)\n"
   ]
  },
  {
   "cell_type": "code",
   "execution_count": 36,
   "metadata": {},
   "outputs": [
    {
     "data": {
      "text/html": [
       "<div>\n",
       "<style scoped>\n",
       "    .dataframe tbody tr th:only-of-type {\n",
       "        vertical-align: middle;\n",
       "    }\n",
       "\n",
       "    .dataframe tbody tr th {\n",
       "        vertical-align: top;\n",
       "    }\n",
       "\n",
       "    .dataframe thead th {\n",
       "        text-align: right;\n",
       "    }\n",
       "</style>\n",
       "<table border=\"1\" class=\"dataframe\">\n",
       "  <thead>\n",
       "    <tr style=\"text-align: right;\">\n",
       "      <th></th>\n",
       "      <th>id</th>\n",
       "      <th>login</th>\n",
       "      <th>type</th>\n",
       "      <th>fake</th>\n",
       "      <th>deleted</th>\n",
       "    </tr>\n",
       "  </thead>\n",
       "  <tbody>\n",
       "    <tr>\n",
       "      <th>57</th>\n",
       "      <td>58</td>\n",
       "      <td>hcilab</td>\n",
       "      <td>USR</td>\n",
       "      <td>0</td>\n",
       "      <td>0</td>\n",
       "    </tr>\n",
       "    <tr>\n",
       "      <th>250</th>\n",
       "      <td>302</td>\n",
       "      <td>equus12</td>\n",
       "      <td>USR</td>\n",
       "      <td>0</td>\n",
       "      <td>0</td>\n",
       "    </tr>\n",
       "    <tr>\n",
       "      <th>12934</th>\n",
       "      <td>13431</td>\n",
       "      <td>chovy</td>\n",
       "      <td>USR</td>\n",
       "      <td>0</td>\n",
       "      <td>0</td>\n",
       "    </tr>\n",
       "    <tr>\n",
       "      <th>42112</th>\n",
       "      <td>44782</td>\n",
       "      <td>trietptm</td>\n",
       "      <td>USR</td>\n",
       "      <td>0</td>\n",
       "      <td>0</td>\n",
       "    </tr>\n",
       "    <tr>\n",
       "      <th>700212</th>\n",
       "      <td>827248</td>\n",
       "      <td>csjaba</td>\n",
       "      <td>USR</td>\n",
       "      <td>0</td>\n",
       "      <td>0</td>\n",
       "    </tr>\n",
       "    <tr>\n",
       "      <th>1443760</th>\n",
       "      <td>1631799</td>\n",
       "      <td>fordream</td>\n",
       "      <td>USR</td>\n",
       "      <td>0</td>\n",
       "      <td>0</td>\n",
       "    </tr>\n",
       "    <tr>\n",
       "      <th>2097245</th>\n",
       "      <td>2313223</td>\n",
       "      <td>SuriyaaKudoIsc</td>\n",
       "      <td>USR</td>\n",
       "      <td>0</td>\n",
       "      <td>0</td>\n",
       "    </tr>\n",
       "    <tr>\n",
       "      <th>2518428</th>\n",
       "      <td>2755100</td>\n",
       "      <td>threejs-cn</td>\n",
       "      <td>USR</td>\n",
       "      <td>0</td>\n",
       "      <td>0</td>\n",
       "    </tr>\n",
       "    <tr>\n",
       "      <th>2537749</th>\n",
       "      <td>2774706</td>\n",
       "      <td>Jacktony</td>\n",
       "      <td>USR</td>\n",
       "      <td>0</td>\n",
       "      <td>0</td>\n",
       "    </tr>\n",
       "    <tr>\n",
       "      <th>3311357</th>\n",
       "      <td>3564691</td>\n",
       "      <td>martinstojcevski5</td>\n",
       "      <td>USR</td>\n",
       "      <td>0</td>\n",
       "      <td>0</td>\n",
       "    </tr>\n",
       "  </tbody>\n",
       "</table>\n",
       "</div>"
      ],
      "text/plain": [
       "              id              login type fake deleted\n",
       "57            58             hcilab  USR    0       0\n",
       "250          302            equus12  USR    0       0\n",
       "12934      13431              chovy  USR    0       0\n",
       "42112      44782           trietptm  USR    0       0\n",
       "700212    827248             csjaba  USR    0       0\n",
       "1443760  1631799           fordream  USR    0       0\n",
       "2097245  2313223     SuriyaaKudoIsc  USR    0       0\n",
       "2518428  2755100         threejs-cn  USR    0       0\n",
       "2537749  2774706           Jacktony  USR    0       0\n",
       "3311357  3564691  martinstojcevski5  USR    0       0"
      ]
     },
     "execution_count": 36,
     "metadata": {},
     "output_type": "execute_result"
    }
   ],
   "source": [
    "# identify the user names found in top authorities\n",
    "df_u.loc [ df_u['id'].isin( top_auths.keys() )]"
   ]
  },
  {
   "cell_type": "markdown",
   "metadata": {},
   "source": [
    "### Calculate population and No. of followers, mean, std, median"
   ]
  },
  {
   "cell_type": "code",
   "execution_count": 37,
   "metadata": {},
   "outputs": [
    {
     "name": "stdout",
     "output_type": "stream",
     "text": [
      "Average in degree:  4.511617030817075\n",
      "Average out degree:  4.511617030817075\n"
     ]
    }
   ],
   "source": [
    "in_deg_mean = np.mean(list(all_in_deg.values()))\n",
    "\n",
    "out_deg_mean= np.mean(list(all_out_deg.values()))\n",
    "\n",
    "print(\"Average in degree: \", in_deg_mean)\n",
    "print(\"Average out degree: \", out_deg_mean)\n"
   ]
  },
  {
   "cell_type": "code",
   "execution_count": 40,
   "metadata": {},
   "outputs": [
    {
     "data": {
      "text/plain": [
       "58.83985510167124"
      ]
     },
     "execution_count": 40,
     "metadata": {},
     "output_type": "execute_result"
    }
   ],
   "source": [
    "#standar deviation, in degreee values\n",
    "np.std(list(all_in_deg.values()))\n"
   ]
  },
  {
   "cell_type": "code",
   "execution_count": 41,
   "metadata": {},
   "outputs": [
    {
     "data": {
      "text/plain": [
       "3462.1285483856673"
      ]
     },
     "execution_count": 41,
     "metadata": {},
     "output_type": "execute_result"
    }
   ],
   "source": [
    "#variance, in degreee values\n",
    "np.var(list(all_in_deg.values()))"
   ]
  },
  {
   "cell_type": "code",
   "execution_count": 42,
   "metadata": {},
   "outputs": [
    {
     "name": "stdout",
     "output_type": "stream",
     "text": [
      "{'2755100': 40306, '3564691': 27307, '58': 21744, '1631799': 17823, '827248': 16767, '13431': 16066, '302': 13465, '2061191': 12029, '44782': 11034, '37617': 9407}\n"
     ]
    }
   ],
   "source": [
    "#users with more followers\n",
    "top_followers = get_top_values(all_in_deg, 10)\n",
    "print ( top_followers )"
   ]
  },
  {
   "cell_type": "code",
   "execution_count": 43,
   "metadata": {},
   "outputs": [
    {
     "data": {
      "text/html": [
       "<div>\n",
       "<style scoped>\n",
       "    .dataframe tbody tr th:only-of-type {\n",
       "        vertical-align: middle;\n",
       "    }\n",
       "\n",
       "    .dataframe tbody tr th {\n",
       "        vertical-align: top;\n",
       "    }\n",
       "\n",
       "    .dataframe thead th {\n",
       "        text-align: right;\n",
       "    }\n",
       "</style>\n",
       "<table border=\"1\" class=\"dataframe\">\n",
       "  <thead>\n",
       "    <tr style=\"text-align: right;\">\n",
       "      <th></th>\n",
       "      <th>id</th>\n",
       "      <th>login</th>\n",
       "      <th>type</th>\n",
       "      <th>fake</th>\n",
       "      <th>deleted</th>\n",
       "    </tr>\n",
       "  </thead>\n",
       "  <tbody>\n",
       "    <tr>\n",
       "      <th>57</th>\n",
       "      <td>58</td>\n",
       "      <td>hcilab</td>\n",
       "      <td>USR</td>\n",
       "      <td>0</td>\n",
       "      <td>0</td>\n",
       "    </tr>\n",
       "    <tr>\n",
       "      <th>250</th>\n",
       "      <td>302</td>\n",
       "      <td>equus12</td>\n",
       "      <td>USR</td>\n",
       "      <td>0</td>\n",
       "      <td>0</td>\n",
       "    </tr>\n",
       "    <tr>\n",
       "      <th>12934</th>\n",
       "      <td>13431</td>\n",
       "      <td>chovy</td>\n",
       "      <td>USR</td>\n",
       "      <td>0</td>\n",
       "      <td>0</td>\n",
       "    </tr>\n",
       "    <tr>\n",
       "      <th>35687</th>\n",
       "      <td>37617</td>\n",
       "      <td>STRd6</td>\n",
       "      <td>USR</td>\n",
       "      <td>0</td>\n",
       "      <td>0</td>\n",
       "    </tr>\n",
       "    <tr>\n",
       "      <th>42112</th>\n",
       "      <td>44782</td>\n",
       "      <td>trietptm</td>\n",
       "      <td>USR</td>\n",
       "      <td>0</td>\n",
       "      <td>0</td>\n",
       "    </tr>\n",
       "    <tr>\n",
       "      <th>700212</th>\n",
       "      <td>827248</td>\n",
       "      <td>csjaba</td>\n",
       "      <td>USR</td>\n",
       "      <td>0</td>\n",
       "      <td>0</td>\n",
       "    </tr>\n",
       "    <tr>\n",
       "      <th>1443760</th>\n",
       "      <td>1631799</td>\n",
       "      <td>fordream</td>\n",
       "      <td>USR</td>\n",
       "      <td>0</td>\n",
       "      <td>0</td>\n",
       "    </tr>\n",
       "    <tr>\n",
       "      <th>1854215</th>\n",
       "      <td>2061191</td>\n",
       "      <td>hehead</td>\n",
       "      <td>USR</td>\n",
       "      <td>0</td>\n",
       "      <td>0</td>\n",
       "    </tr>\n",
       "    <tr>\n",
       "      <th>2518428</th>\n",
       "      <td>2755100</td>\n",
       "      <td>threejs-cn</td>\n",
       "      <td>USR</td>\n",
       "      <td>0</td>\n",
       "      <td>0</td>\n",
       "    </tr>\n",
       "    <tr>\n",
       "      <th>3311357</th>\n",
       "      <td>3564691</td>\n",
       "      <td>martinstojcevski5</td>\n",
       "      <td>USR</td>\n",
       "      <td>0</td>\n",
       "      <td>0</td>\n",
       "    </tr>\n",
       "  </tbody>\n",
       "</table>\n",
       "</div>"
      ],
      "text/plain": [
       "              id              login type fake deleted\n",
       "57            58             hcilab  USR    0       0\n",
       "250          302            equus12  USR    0       0\n",
       "12934      13431              chovy  USR    0       0\n",
       "35687      37617              STRd6  USR    0       0\n",
       "42112      44782           trietptm  USR    0       0\n",
       "700212    827248             csjaba  USR    0       0\n",
       "1443760  1631799           fordream  USR    0       0\n",
       "1854215  2061191             hehead  USR    0       0\n",
       "2518428  2755100         threejs-cn  USR    0       0\n",
       "3311357  3564691  martinstojcevski5  USR    0       0"
      ]
     },
     "execution_count": 43,
     "metadata": {},
     "output_type": "execute_result"
    }
   ],
   "source": [
    "df_u.loc [ df_u['id'].isin( top_followers.keys() )]"
   ]
  },
  {
   "cell_type": "code",
   "execution_count": 45,
   "metadata": {},
   "outputs": [],
   "source": [
    "#save results in a csv file\n",
    "(pd.DataFrame.from_dict(data=in_deg_freq, orient='index').to_csv(r'.\\2015\\in_deg_freq.csv'))\n",
    "(pd.DataFrame.from_dict(data=all_in_deg, orient='index').to_csv(r'.\\2015\\all_in_deg.csv'))\n",
    "(pd.DataFrame.from_dict(data=out_deg_freq, orient='index').to_csv(r'.\\2015\\out_deg_freq.csv'))\n",
    "(pd.DataFrame.from_dict(data=all_out_deg, orient='index').to_csv(r'.\\2015\\all_out_deg.csv'))"
   ]
  },
  {
   "cell_type": "markdown",
   "metadata": {},
   "source": [
    "### Centrality measure"
   ]
  },
  {
   "cell_type": "code",
   "execution_count": 46,
   "metadata": {},
   "outputs": [],
   "source": [
    "eigenv_centrality= nx.eigenvector_centrality(followers_graph)"
   ]
  },
  {
   "cell_type": "code",
   "execution_count": 47,
   "metadata": {},
   "outputs": [],
   "source": [
    "#save results in a csv file\n",
    "(pd.DataFrame.from_dict(data=eigenv_centrality, orient='index').to_csv(r'.\\2015\\eigenv_centrality.csv'))\n"
   ]
  },
  {
   "cell_type": "code",
   "execution_count": 48,
   "metadata": {},
   "outputs": [
    {
     "name": "stdout",
     "output_type": "stream",
     "text": [
      "{'2755100': 0.4456918670148013, '3564691': 0.2772149112718081, '827248': 0.24370074910451528, '58': 0.2034047642742266, '89616': 0.19135014191598443, '2755251': 0.18450985805432488, '13431': 0.1719804744763178, '2061191': 0.16356090187261824, '1631799': 0.16240473205038664, '302': 0.15540753252057243}\n"
     ]
    }
   ],
   "source": [
    "#users with highest centrality values\n",
    "top_eigen_centrality = get_top_values(eigenv_centrality, 10)\n",
    "\n",
    "print ( top_eigen_centrality )"
   ]
  },
  {
   "cell_type": "code",
   "execution_count": 49,
   "metadata": {},
   "outputs": [
    {
     "data": {
      "text/html": [
       "<div>\n",
       "<style scoped>\n",
       "    .dataframe tbody tr th:only-of-type {\n",
       "        vertical-align: middle;\n",
       "    }\n",
       "\n",
       "    .dataframe tbody tr th {\n",
       "        vertical-align: top;\n",
       "    }\n",
       "\n",
       "    .dataframe thead th {\n",
       "        text-align: right;\n",
       "    }\n",
       "</style>\n",
       "<table border=\"1\" class=\"dataframe\">\n",
       "  <thead>\n",
       "    <tr style=\"text-align: right;\">\n",
       "      <th></th>\n",
       "      <th>id</th>\n",
       "      <th>login</th>\n",
       "      <th>type</th>\n",
       "      <th>fake</th>\n",
       "      <th>deleted</th>\n",
       "    </tr>\n",
       "  </thead>\n",
       "  <tbody>\n",
       "    <tr>\n",
       "      <th>57</th>\n",
       "      <td>58</td>\n",
       "      <td>hcilab</td>\n",
       "      <td>USR</td>\n",
       "      <td>0</td>\n",
       "      <td>0</td>\n",
       "    </tr>\n",
       "    <tr>\n",
       "      <th>250</th>\n",
       "      <td>302</td>\n",
       "      <td>equus12</td>\n",
       "      <td>USR</td>\n",
       "      <td>0</td>\n",
       "      <td>0</td>\n",
       "    </tr>\n",
       "    <tr>\n",
       "      <th>12934</th>\n",
       "      <td>13431</td>\n",
       "      <td>chovy</td>\n",
       "      <td>USR</td>\n",
       "      <td>0</td>\n",
       "      <td>0</td>\n",
       "    </tr>\n",
       "    <tr>\n",
       "      <th>82103</th>\n",
       "      <td>89616</td>\n",
       "      <td>peterkokot</td>\n",
       "      <td>USR</td>\n",
       "      <td>0</td>\n",
       "      <td>0</td>\n",
       "    </tr>\n",
       "    <tr>\n",
       "      <th>700212</th>\n",
       "      <td>827248</td>\n",
       "      <td>csjaba</td>\n",
       "      <td>USR</td>\n",
       "      <td>0</td>\n",
       "      <td>0</td>\n",
       "    </tr>\n",
       "    <tr>\n",
       "      <th>1443760</th>\n",
       "      <td>1631799</td>\n",
       "      <td>fordream</td>\n",
       "      <td>USR</td>\n",
       "      <td>0</td>\n",
       "      <td>0</td>\n",
       "    </tr>\n",
       "    <tr>\n",
       "      <th>1854215</th>\n",
       "      <td>2061191</td>\n",
       "      <td>hehead</td>\n",
       "      <td>USR</td>\n",
       "      <td>0</td>\n",
       "      <td>0</td>\n",
       "    </tr>\n",
       "    <tr>\n",
       "      <th>2518428</th>\n",
       "      <td>2755100</td>\n",
       "      <td>threejs-cn</td>\n",
       "      <td>USR</td>\n",
       "      <td>0</td>\n",
       "      <td>0</td>\n",
       "    </tr>\n",
       "    <tr>\n",
       "      <th>2518578</th>\n",
       "      <td>2755251</td>\n",
       "      <td>facelessman</td>\n",
       "      <td>USR</td>\n",
       "      <td>0</td>\n",
       "      <td>0</td>\n",
       "    </tr>\n",
       "    <tr>\n",
       "      <th>3311357</th>\n",
       "      <td>3564691</td>\n",
       "      <td>martinstojcevski5</td>\n",
       "      <td>USR</td>\n",
       "      <td>0</td>\n",
       "      <td>0</td>\n",
       "    </tr>\n",
       "  </tbody>\n",
       "</table>\n",
       "</div>"
      ],
      "text/plain": [
       "              id              login type fake deleted\n",
       "57            58             hcilab  USR    0       0\n",
       "250          302            equus12  USR    0       0\n",
       "12934      13431              chovy  USR    0       0\n",
       "82103      89616         peterkokot  USR    0       0\n",
       "700212    827248             csjaba  USR    0       0\n",
       "1443760  1631799           fordream  USR    0       0\n",
       "1854215  2061191             hehead  USR    0       0\n",
       "2518428  2755100         threejs-cn  USR    0       0\n",
       "2518578  2755251        facelessman  USR    0       0\n",
       "3311357  3564691  martinstojcevski5  USR    0       0"
      ]
     },
     "execution_count": 49,
     "metadata": {},
     "output_type": "execute_result"
    }
   ],
   "source": [
    "#users with the top 10 highest eigen centrality degree\n",
    "df_u.loc [ df_u['id'].isin( top_eigen_centrality.keys() )]"
   ]
  }
 ],
 "metadata": {
  "kernelspec": {
   "display_name": "Python 3",
   "language": "python",
   "name": "python3"
  },
  "language_info": {
   "codemirror_mode": {
    "name": "ipython",
    "version": 3
   },
   "file_extension": ".py",
   "mimetype": "text/x-python",
   "name": "python",
   "nbconvert_exporter": "python",
   "pygments_lexer": "ipython3",
   "version": "3.7.3"
  }
 },
 "nbformat": 4,
 "nbformat_minor": 2
}
