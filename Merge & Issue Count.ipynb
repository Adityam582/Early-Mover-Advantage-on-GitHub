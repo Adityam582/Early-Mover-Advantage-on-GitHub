{
 "cells": [
  {
   "cell_type": "code",
   "execution_count": 1,
   "metadata": {},
   "outputs": [],
   "source": [
    "import requests\n",
    "import pandas as pd\n",
    "import time"
   ]
  },
  {
   "cell_type": "code",
   "execution_count": 2,
   "metadata": {},
   "outputs": [],
   "source": [
    "def fetch_git_forks(url):\n",
    "    time.sleep(2.4)\n",
    "    pages = []\n",
    "    res=requests.get(url,headers={'Authorization': 'token ' + 'b96f1edb9a2439bda078fde56d3c26f636632b5c', 'Accept': 'application/vnd.github.squirrel-girl-preview+json'})\n",
    "    data=res.json()\n",
    "    pages.append(data)\n",
    "    return pages"
   ]
  },
  {
   "cell_type": "code",
   "execution_count": 9,
   "metadata": {},
   "outputs": [
    {
     "data": {
      "text/html": [
       "<div>\n",
       "<style scoped>\n",
       "    .dataframe tbody tr th:only-of-type {\n",
       "        vertical-align: middle;\n",
       "    }\n",
       "\n",
       "    .dataframe tbody tr th {\n",
       "        vertical-align: top;\n",
       "    }\n",
       "\n",
       "    .dataframe thead th {\n",
       "        text-align: right;\n",
       "    }\n",
       "</style>\n",
       "<table border=\"1\" class=\"dataframe\">\n",
       "  <thead>\n",
       "    <tr style=\"text-align: right;\">\n",
       "      <th></th>\n",
       "      <th>login</th>\n",
       "      <th>followers</th>\n",
       "      <th>following</th>\n",
       "      <th>public_repos</th>\n",
       "      <th>year</th>\n",
       "    </tr>\n",
       "  </thead>\n",
       "  <tbody>\n",
       "    <tr>\n",
       "      <th>95</th>\n",
       "      <td>unclebob</td>\n",
       "      <td>7336</td>\n",
       "      <td>0</td>\n",
       "      <td>42</td>\n",
       "      <td>2008</td>\n",
       "    </tr>\n",
       "    <tr>\n",
       "      <th>96</th>\n",
       "      <td>necolas</td>\n",
       "      <td>8009</td>\n",
       "      <td>28</td>\n",
       "      <td>69</td>\n",
       "      <td>2010</td>\n",
       "    </tr>\n",
       "    <tr>\n",
       "      <th>97</th>\n",
       "      <td>liaohuqiu</td>\n",
       "      <td>8187</td>\n",
       "      <td>228</td>\n",
       "      <td>126</td>\n",
       "      <td>2013</td>\n",
       "    </tr>\n",
       "    <tr>\n",
       "      <th>98</th>\n",
       "      <td>PresidentObamaBot</td>\n",
       "      <td>3310</td>\n",
       "      <td>0</td>\n",
       "      <td>0</td>\n",
       "      <td>2014</td>\n",
       "    </tr>\n",
       "    <tr>\n",
       "      <th>99</th>\n",
       "      <td>hackedteam</td>\n",
       "      <td>5278</td>\n",
       "      <td>0</td>\n",
       "      <td>53</td>\n",
       "      <td>2015</td>\n",
       "    </tr>\n",
       "  </tbody>\n",
       "</table>\n",
       "</div>"
      ],
      "text/plain": [
       "                login  followers  following  public_repos  year\n",
       "95           unclebob       7336          0            42  2008\n",
       "96            necolas       8009         28            69  2010\n",
       "97          liaohuqiu       8187        228           126  2013\n",
       "98  PresidentObamaBot       3310          0             0  2014\n",
       "99         hackedteam       5278          0            53  2015"
      ]
     },
     "execution_count": 9,
     "metadata": {},
     "output_type": "execute_result"
    }
   ],
   "source": [
    "user_detail = pd.read_excel(\"File User PageRank.xlsx\")\n",
    "user_detail.tail()"
   ]
  },
  {
   "cell_type": "code",
   "execution_count": 4,
   "metadata": {},
   "outputs": [],
   "source": [
    "login_name_list = list(user_detail.login)"
   ]
  },
  {
   "cell_type": "code",
   "execution_count": 5,
   "metadata": {},
   "outputs": [],
   "source": [
    "def calculate_count(merge, users):\n",
    "    if merge:\n",
    "        search_query = \"+is:merged&per_page=1\"\n",
    "    else:                                                     #Issue\n",
    "        search_query = \"+is:issue+is:closed&per_page=1\"\n",
    "    user_count_dic = {}\n",
    "    for login_name in users:\n",
    "        temp_count = 0\n",
    "        url = \"https://api.github.com/search/issues?q=author:\"+login_name+search_query\n",
    "        x = fetch_git_forks(url)\n",
    "        user_count_dic[login_name] = int(x[0]['total_count'])  \n",
    "    return user_count_dic"
   ]
  },
  {
   "cell_type": "code",
   "execution_count": 6,
   "metadata": {},
   "outputs": [],
   "source": [
    "user_merge_dic = calculate_count(1,login_name_list)\n",
    "user_issue_dic = calculate_count(0,login_name_list)"
   ]
  },
  {
   "cell_type": "code",
   "execution_count": 7,
   "metadata": {},
   "outputs": [
    {
     "data": {
      "text/plain": [
       "100"
      ]
     },
     "execution_count": 7,
     "metadata": {},
     "output_type": "execute_result"
    }
   ],
   "source": [
    "len(user_issue_dic)"
   ]
  },
  {
   "cell_type": "code",
   "execution_count": 8,
   "metadata": {},
   "outputs": [
    {
     "data": {
      "text/plain": [
       "100"
      ]
     },
     "execution_count": 8,
     "metadata": {},
     "output_type": "execute_result"
    }
   ],
   "source": [
    "len(user_merge_dic)"
   ]
  },
  {
   "cell_type": "code",
   "execution_count": 10,
   "metadata": {},
   "outputs": [],
   "source": [
    "user_detail['Merge Count'] = user_merge_dic.values()"
   ]
  },
  {
   "cell_type": "code",
   "execution_count": 11,
   "metadata": {},
   "outputs": [],
   "source": [
    "user_detail['Issue Count'] = user_issue_dic.values()"
   ]
  },
  {
   "cell_type": "code",
   "execution_count": 12,
   "metadata": {},
   "outputs": [
    {
     "data": {
      "text/html": [
       "<div>\n",
       "<style scoped>\n",
       "    .dataframe tbody tr th:only-of-type {\n",
       "        vertical-align: middle;\n",
       "    }\n",
       "\n",
       "    .dataframe tbody tr th {\n",
       "        vertical-align: top;\n",
       "    }\n",
       "\n",
       "    .dataframe thead th {\n",
       "        text-align: right;\n",
       "    }\n",
       "</style>\n",
       "<table border=\"1\" class=\"dataframe\">\n",
       "  <thead>\n",
       "    <tr style=\"text-align: right;\">\n",
       "      <th></th>\n",
       "      <th>login</th>\n",
       "      <th>followers</th>\n",
       "      <th>following</th>\n",
       "      <th>public_repos</th>\n",
       "      <th>year</th>\n",
       "      <th>Merge Count</th>\n",
       "      <th>Issue Count</th>\n",
       "    </tr>\n",
       "  </thead>\n",
       "  <tbody>\n",
       "    <tr>\n",
       "      <th>95</th>\n",
       "      <td>unclebob</td>\n",
       "      <td>7336</td>\n",
       "      <td>0</td>\n",
       "      <td>42</td>\n",
       "      <td>2008</td>\n",
       "      <td>1</td>\n",
       "      <td>2</td>\n",
       "    </tr>\n",
       "    <tr>\n",
       "      <th>96</th>\n",
       "      <td>necolas</td>\n",
       "      <td>8009</td>\n",
       "      <td>28</td>\n",
       "      <td>69</td>\n",
       "      <td>2010</td>\n",
       "      <td>181</td>\n",
       "      <td>1044</td>\n",
       "    </tr>\n",
       "    <tr>\n",
       "      <th>97</th>\n",
       "      <td>liaohuqiu</td>\n",
       "      <td>8187</td>\n",
       "      <td>228</td>\n",
       "      <td>126</td>\n",
       "      <td>2013</td>\n",
       "      <td>92</td>\n",
       "      <td>59</td>\n",
       "    </tr>\n",
       "    <tr>\n",
       "      <th>98</th>\n",
       "      <td>PresidentObamaBot</td>\n",
       "      <td>3310</td>\n",
       "      <td>0</td>\n",
       "      <td>0</td>\n",
       "      <td>2014</td>\n",
       "      <td>0</td>\n",
       "      <td>0</td>\n",
       "    </tr>\n",
       "    <tr>\n",
       "      <th>99</th>\n",
       "      <td>hackedteam</td>\n",
       "      <td>5278</td>\n",
       "      <td>0</td>\n",
       "      <td>53</td>\n",
       "      <td>2015</td>\n",
       "      <td>0</td>\n",
       "      <td>0</td>\n",
       "    </tr>\n",
       "  </tbody>\n",
       "</table>\n",
       "</div>"
      ],
      "text/plain": [
       "                login  followers  following  public_repos  year  Merge Count  \\\n",
       "95           unclebob       7336          0            42  2008            1   \n",
       "96            necolas       8009         28            69  2010          181   \n",
       "97          liaohuqiu       8187        228           126  2013           92   \n",
       "98  PresidentObamaBot       3310          0             0  2014            0   \n",
       "99         hackedteam       5278          0            53  2015            0   \n",
       "\n",
       "    Issue Count  \n",
       "95            2  \n",
       "96         1044  \n",
       "97           59  \n",
       "98            0  \n",
       "99            0  "
      ]
     },
     "execution_count": 12,
     "metadata": {},
     "output_type": "execute_result"
    }
   ],
   "source": [
    "user_detail.tail()"
   ]
  },
  {
   "cell_type": "code",
   "execution_count": 13,
   "metadata": {},
   "outputs": [],
   "source": [
    "user_detail.to_excel(\"File User Merge & Issue Count.xlsx\", index=False)"
   ]
  },
  {
   "cell_type": "code",
   "execution_count": null,
   "metadata": {},
   "outputs": [],
   "source": []
  },
  {
   "cell_type": "markdown",
   "metadata": {},
   "source": [
    "## Repository work not used in research"
   ]
  },
  {
   "cell_type": "code",
   "execution_count": 80,
   "metadata": {},
   "outputs": [],
   "source": [
    "#top_20_issue_user_login_name = ['h4ck3rm1k3','chovy', 'STRd6', 'csjaba', 'fordream', 'hehead', 'threejs-cn', 'martinstojcevski5', 'arrival', '4148', 'MartijnCuppens', 'ELUTE', 'jimsiff', 'ysds', 'gregwaehner', 'mcandre', 'scottleibrand', 'jwedding', 'someoneAnyone', 'Stick-To']\n",
    "#top_repo_list_name = ['jtleek/datasharing', 'rdpeng/ProgrammingAssignment2', 'octocat/Spoon-Knife', 'tensorflow/tensorflow', 'twbs/bootstrap', 'SmartThingsCommunity/SmartThingsPublic', 'rdpeng/ExData_Plotting1', 'github/gitignore', 'tensorflow/models', 'nightscout/cgm-remote-monitor']"
   ]
  },
  {
   "cell_type": "code",
   "execution_count": 82,
   "metadata": {},
   "outputs": [],
   "source": [
    "# user_merge_count_dic = {}\n",
    "# merge_user_urls = []\n",
    "# dic = {}\n",
    "# temp_count_user = 0\n",
    "# temp_count_repo = 0\n",
    "# for login_name in top_20_issue_user_login_name:\n",
    "#     temp_count = 0\n",
    "#     for repo_name in top_repo_list_name:\n",
    "#         url = \"https://api.github.com/search/issues?q=repo:\"+repo_name+\"+author:\"+login_name+\"+is:pr+is:merged\" + \"&per_page=1\"\n",
    "#         x = fetch_git_forks(url)\n",
    "#         temp_count = temp_count + int(x[0]['total_count'])\n",
    "#         temp_count_repo += 1\n",
    "#     user_merge_count_dic[login_name] = temp_count\n",
    "#     temp_count_user += 1 "
   ]
  },
  {
   "cell_type": "code",
   "execution_count": 5,
   "metadata": {},
   "outputs": [],
   "source": [
    "#temp_count_user"
   ]
  },
  {
   "cell_type": "code",
   "execution_count": 6,
   "metadata": {},
   "outputs": [],
   "source": [
    "#temp_count_repo"
   ]
  },
  {
   "cell_type": "code",
   "execution_count": null,
   "metadata": {},
   "outputs": [],
   "source": []
  }
 ],
 "metadata": {
  "kernelspec": {
   "display_name": "Python 3",
   "language": "python",
   "name": "python3"
  },
  "language_info": {
   "codemirror_mode": {
    "name": "ipython",
    "version": 3
   },
   "file_extension": ".py",
   "mimetype": "text/x-python",
   "name": "python",
   "nbconvert_exporter": "python",
   "pygments_lexer": "ipython3",
   "version": "3.7.0"
  }
 },
 "nbformat": 4,
 "nbformat_minor": 2
}
