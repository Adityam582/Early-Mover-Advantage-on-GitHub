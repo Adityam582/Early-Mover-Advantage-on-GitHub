{
 "cells": [
  {
   "cell_type": "code",
   "execution_count": 164,
   "metadata": {},
   "outputs": [],
   "source": [
    "import requests\n",
    "import pandas as pd\n",
    "import time\n",
    "import matplotlib.pyplot as plt"
   ]
  },
  {
   "cell_type": "code",
   "execution_count": 165,
   "metadata": {},
   "outputs": [],
   "source": [
    "def fetch_git_forks(url):\n",
    "    time.sleep(2.4)\n",
    "    pages = []\n",
    "    res=requests.get(url,headers={'Authorization': 'token ' + '2dff7d2f867fa149f599878a4856ae7fa61c6fa1', 'Accept': 'application/vnd.github.squirrel-girl-preview+json'})\n",
    "    data=res.json()\n",
    "    pages.append(data)\n",
    "    return pages"
   ]
  },
  {
   "cell_type": "code",
   "execution_count": 167,
   "metadata": {},
   "outputs": [
    {
     "data": {
      "text/html": [
       "<div>\n",
       "<style scoped>\n",
       "    .dataframe tbody tr th:only-of-type {\n",
       "        vertical-align: middle;\n",
       "    }\n",
       "\n",
       "    .dataframe tbody tr th {\n",
       "        vertical-align: top;\n",
       "    }\n",
       "\n",
       "    .dataframe thead th {\n",
       "        text-align: right;\n",
       "    }\n",
       "</style>\n",
       "<table border=\"1\" class=\"dataframe\">\n",
       "  <thead>\n",
       "    <tr style=\"text-align: right;\">\n",
       "      <th></th>\n",
       "      <th>login</th>\n",
       "      <th>followers</th>\n",
       "      <th>following</th>\n",
       "      <th>public_repos</th>\n",
       "      <th>year</th>\n",
       "      <th>Merge Count</th>\n",
       "      <th>Issue Count</th>\n",
       "    </tr>\n",
       "  </thead>\n",
       "  <tbody>\n",
       "    <tr>\n",
       "      <th>0</th>\n",
       "      <td>torvalds</td>\n",
       "      <td>105246</td>\n",
       "      <td>0</td>\n",
       "      <td>6</td>\n",
       "      <td>2011</td>\n",
       "      <td>43</td>\n",
       "      <td>1</td>\n",
       "    </tr>\n",
       "    <tr>\n",
       "      <th>1</th>\n",
       "      <td>JakeWharton</td>\n",
       "      <td>56024</td>\n",
       "      <td>12</td>\n",
       "      <td>99</td>\n",
       "      <td>2009</td>\n",
       "      <td>3175</td>\n",
       "      <td>1201</td>\n",
       "    </tr>\n",
       "    <tr>\n",
       "      <th>2</th>\n",
       "      <td>tj</td>\n",
       "      <td>41873</td>\n",
       "      <td>46</td>\n",
       "      <td>288</td>\n",
       "      <td>2008</td>\n",
       "      <td>125</td>\n",
       "      <td>2782</td>\n",
       "    </tr>\n",
       "    <tr>\n",
       "      <th>3</th>\n",
       "      <td>mojombo</td>\n",
       "      <td>21760</td>\n",
       "      <td>11</td>\n",
       "      <td>61</td>\n",
       "      <td>2007</td>\n",
       "      <td>52</td>\n",
       "      <td>21</td>\n",
       "    </tr>\n",
       "    <tr>\n",
       "      <th>4</th>\n",
       "      <td>gaearon</td>\n",
       "      <td>51812</td>\n",
       "      <td>171</td>\n",
       "      <td>239</td>\n",
       "      <td>2011</td>\n",
       "      <td>1661</td>\n",
       "      <td>1324</td>\n",
       "    </tr>\n",
       "  </tbody>\n",
       "</table>\n",
       "</div>"
      ],
      "text/plain": [
       "         login  followers  following  public_repos  year  Merge Count  \\\n",
       "0     torvalds     105246          0             6  2011           43   \n",
       "1  JakeWharton      56024         12            99  2009         3175   \n",
       "2           tj      41873         46           288  2008          125   \n",
       "3      mojombo      21760         11            61  2007           52   \n",
       "4      gaearon      51812        171           239  2011         1661   \n",
       "\n",
       "   Issue Count  \n",
       "0            1  \n",
       "1         1201  \n",
       "2         2782  \n",
       "3           21  \n",
       "4         1324  "
      ]
     },
     "execution_count": 167,
     "metadata": {},
     "output_type": "execute_result"
    }
   ],
   "source": [
    "user_details = pd.read_excel(\"File User Merge & Issue Count.xlsx\")\n",
    "user_details.head()"
   ]
  },
  {
   "cell_type": "code",
   "execution_count": 170,
   "metadata": {},
   "outputs": [],
   "source": [
    "login_names = list(user_details.login)"
   ]
  },
  {
   "cell_type": "code",
   "execution_count": 171,
   "metadata": {},
   "outputs": [],
   "source": [
    "def calculate_count(merge, users):\n",
    "    if merge:\n",
    "        search_query = \"+is:merged&per_page=1\"\n",
    "    else:                                                     #Closed PR\n",
    "        search_query = \"+is:pr+is:closed&per_page=1\"\n",
    "    user_count_dic = {}\n",
    "    for login_name in users:\n",
    "        temp_count = 0\n",
    "        url = \"https://api.github.com/search/issues?q=author:\"+login_name+search_query\n",
    "        x = fetch_git_forks(url)\n",
    "        user_count_dic[login_name] = int(x[0]['total_count'])  \n",
    "    return user_count_dic"
   ]
  },
  {
   "cell_type": "code",
   "execution_count": 172,
   "metadata": {},
   "outputs": [],
   "source": [
    "#user_merge_dic = calculate_count(1,top_10_login_name)\n",
    "user_close_pr_dic = calculate_count(0,login_names)"
   ]
  },
  {
   "cell_type": "code",
   "execution_count": 173,
   "metadata": {},
   "outputs": [],
   "source": [
    "#len(user_merge_dic)"
   ]
  },
  {
   "cell_type": "code",
   "execution_count": 174,
   "metadata": {},
   "outputs": [
    {
     "data": {
      "text/plain": [
       "100"
      ]
     },
     "execution_count": 174,
     "metadata": {},
     "output_type": "execute_result"
    }
   ],
   "source": [
    "len(user_close_pr_dic)"
   ]
  },
  {
   "cell_type": "code",
   "execution_count": 175,
   "metadata": {},
   "outputs": [],
   "source": [
    "#user_details['Merge Count'] = user_merge_dic.values()"
   ]
  },
  {
   "cell_type": "code",
   "execution_count": 176,
   "metadata": {},
   "outputs": [],
   "source": [
    "user_details['Closed Pull Request Count'] = user_close_pr_dic.values()"
   ]
  },
  {
   "cell_type": "code",
   "execution_count": 177,
   "metadata": {},
   "outputs": [],
   "source": [
    "user_details['Merge Ratio'] = user_details['Merge Count']/user_details['Closed Pull Request Count']"
   ]
  },
  {
   "cell_type": "code",
   "execution_count": 178,
   "metadata": {},
   "outputs": [
    {
     "data": {
      "text/html": [
       "<div>\n",
       "<style scoped>\n",
       "    .dataframe tbody tr th:only-of-type {\n",
       "        vertical-align: middle;\n",
       "    }\n",
       "\n",
       "    .dataframe tbody tr th {\n",
       "        vertical-align: top;\n",
       "    }\n",
       "\n",
       "    .dataframe thead th {\n",
       "        text-align: right;\n",
       "    }\n",
       "</style>\n",
       "<table border=\"1\" class=\"dataframe\">\n",
       "  <thead>\n",
       "    <tr style=\"text-align: right;\">\n",
       "      <th></th>\n",
       "      <th>login</th>\n",
       "      <th>followers</th>\n",
       "      <th>following</th>\n",
       "      <th>public_repos</th>\n",
       "      <th>year</th>\n",
       "      <th>Merge Count</th>\n",
       "      <th>Issue Count</th>\n",
       "      <th>Closed Pull Request Count</th>\n",
       "      <th>Merge Ratio</th>\n",
       "    </tr>\n",
       "  </thead>\n",
       "  <tbody>\n",
       "    <tr>\n",
       "      <th>95</th>\n",
       "      <td>unclebob</td>\n",
       "      <td>7336</td>\n",
       "      <td>0</td>\n",
       "      <td>42</td>\n",
       "      <td>2008</td>\n",
       "      <td>1</td>\n",
       "      <td>2</td>\n",
       "      <td>3</td>\n",
       "      <td>0.333333</td>\n",
       "    </tr>\n",
       "    <tr>\n",
       "      <th>96</th>\n",
       "      <td>necolas</td>\n",
       "      <td>8009</td>\n",
       "      <td>28</td>\n",
       "      <td>69</td>\n",
       "      <td>2010</td>\n",
       "      <td>181</td>\n",
       "      <td>1044</td>\n",
       "      <td>263</td>\n",
       "      <td>0.688213</td>\n",
       "    </tr>\n",
       "    <tr>\n",
       "      <th>97</th>\n",
       "      <td>liaohuqiu</td>\n",
       "      <td>8187</td>\n",
       "      <td>228</td>\n",
       "      <td>126</td>\n",
       "      <td>2013</td>\n",
       "      <td>92</td>\n",
       "      <td>59</td>\n",
       "      <td>134</td>\n",
       "      <td>0.686567</td>\n",
       "    </tr>\n",
       "    <tr>\n",
       "      <th>98</th>\n",
       "      <td>PresidentObamaBot</td>\n",
       "      <td>3310</td>\n",
       "      <td>0</td>\n",
       "      <td>0</td>\n",
       "      <td>2014</td>\n",
       "      <td>0</td>\n",
       "      <td>0</td>\n",
       "      <td>0</td>\n",
       "      <td>NaN</td>\n",
       "    </tr>\n",
       "    <tr>\n",
       "      <th>99</th>\n",
       "      <td>hackedteam</td>\n",
       "      <td>5278</td>\n",
       "      <td>0</td>\n",
       "      <td>53</td>\n",
       "      <td>2015</td>\n",
       "      <td>0</td>\n",
       "      <td>0</td>\n",
       "      <td>0</td>\n",
       "      <td>NaN</td>\n",
       "    </tr>\n",
       "  </tbody>\n",
       "</table>\n",
       "</div>"
      ],
      "text/plain": [
       "                login  followers  following  public_repos  year  Merge Count  \\\n",
       "95           unclebob       7336          0            42  2008            1   \n",
       "96            necolas       8009         28            69  2010          181   \n",
       "97          liaohuqiu       8187        228           126  2013           92   \n",
       "98  PresidentObamaBot       3310          0             0  2014            0   \n",
       "99         hackedteam       5278          0            53  2015            0   \n",
       "\n",
       "    Issue Count  Closed Pull Request Count  Merge Ratio  \n",
       "95            2                          3     0.333333  \n",
       "96         1044                        263     0.688213  \n",
       "97           59                        134     0.686567  \n",
       "98            0                          0          NaN  \n",
       "99            0                          0          NaN  "
      ]
     },
     "execution_count": 178,
     "metadata": {},
     "output_type": "execute_result"
    }
   ],
   "source": [
    "user_details.tail()"
   ]
  },
  {
   "cell_type": "code",
   "execution_count": 179,
   "metadata": {},
   "outputs": [],
   "source": [
    "user_details['Merge Ratio'] = user_details['Merge Ratio'].fillna(0)"
   ]
  },
  {
   "cell_type": "code",
   "execution_count": 180,
   "metadata": {},
   "outputs": [
    {
     "data": {
      "text/html": [
       "<div>\n",
       "<style scoped>\n",
       "    .dataframe tbody tr th:only-of-type {\n",
       "        vertical-align: middle;\n",
       "    }\n",
       "\n",
       "    .dataframe tbody tr th {\n",
       "        vertical-align: top;\n",
       "    }\n",
       "\n",
       "    .dataframe thead th {\n",
       "        text-align: right;\n",
       "    }\n",
       "</style>\n",
       "<table border=\"1\" class=\"dataframe\">\n",
       "  <thead>\n",
       "    <tr style=\"text-align: right;\">\n",
       "      <th></th>\n",
       "      <th>login</th>\n",
       "      <th>followers</th>\n",
       "      <th>following</th>\n",
       "      <th>public_repos</th>\n",
       "      <th>year</th>\n",
       "      <th>Merge Count</th>\n",
       "      <th>Issue Count</th>\n",
       "      <th>Closed Pull Request Count</th>\n",
       "      <th>Merge Ratio</th>\n",
       "    </tr>\n",
       "  </thead>\n",
       "  <tbody>\n",
       "    <tr>\n",
       "      <th>95</th>\n",
       "      <td>unclebob</td>\n",
       "      <td>7336</td>\n",
       "      <td>0</td>\n",
       "      <td>42</td>\n",
       "      <td>2008</td>\n",
       "      <td>1</td>\n",
       "      <td>2</td>\n",
       "      <td>3</td>\n",
       "      <td>0.333333</td>\n",
       "    </tr>\n",
       "    <tr>\n",
       "      <th>96</th>\n",
       "      <td>necolas</td>\n",
       "      <td>8009</td>\n",
       "      <td>28</td>\n",
       "      <td>69</td>\n",
       "      <td>2010</td>\n",
       "      <td>181</td>\n",
       "      <td>1044</td>\n",
       "      <td>263</td>\n",
       "      <td>0.688213</td>\n",
       "    </tr>\n",
       "    <tr>\n",
       "      <th>97</th>\n",
       "      <td>liaohuqiu</td>\n",
       "      <td>8187</td>\n",
       "      <td>228</td>\n",
       "      <td>126</td>\n",
       "      <td>2013</td>\n",
       "      <td>92</td>\n",
       "      <td>59</td>\n",
       "      <td>134</td>\n",
       "      <td>0.686567</td>\n",
       "    </tr>\n",
       "    <tr>\n",
       "      <th>98</th>\n",
       "      <td>PresidentObamaBot</td>\n",
       "      <td>3310</td>\n",
       "      <td>0</td>\n",
       "      <td>0</td>\n",
       "      <td>2014</td>\n",
       "      <td>0</td>\n",
       "      <td>0</td>\n",
       "      <td>0</td>\n",
       "      <td>0.000000</td>\n",
       "    </tr>\n",
       "    <tr>\n",
       "      <th>99</th>\n",
       "      <td>hackedteam</td>\n",
       "      <td>5278</td>\n",
       "      <td>0</td>\n",
       "      <td>53</td>\n",
       "      <td>2015</td>\n",
       "      <td>0</td>\n",
       "      <td>0</td>\n",
       "      <td>0</td>\n",
       "      <td>0.000000</td>\n",
       "    </tr>\n",
       "  </tbody>\n",
       "</table>\n",
       "</div>"
      ],
      "text/plain": [
       "                login  followers  following  public_repos  year  Merge Count  \\\n",
       "95           unclebob       7336          0            42  2008            1   \n",
       "96            necolas       8009         28            69  2010          181   \n",
       "97          liaohuqiu       8187        228           126  2013           92   \n",
       "98  PresidentObamaBot       3310          0             0  2014            0   \n",
       "99         hackedteam       5278          0            53  2015            0   \n",
       "\n",
       "    Issue Count  Closed Pull Request Count  Merge Ratio  \n",
       "95            2                          3     0.333333  \n",
       "96         1044                        263     0.688213  \n",
       "97           59                        134     0.686567  \n",
       "98            0                          0     0.000000  \n",
       "99            0                          0     0.000000  "
      ]
     },
     "execution_count": 180,
     "metadata": {},
     "output_type": "execute_result"
    }
   ],
   "source": [
    "user_details.tail()"
   ]
  },
  {
   "cell_type": "code",
   "execution_count": 182,
   "metadata": {},
   "outputs": [],
   "source": [
    "user_details.to_excel(\"File User PageRank attributes.xlsx\", index=False)"
   ]
  },
  {
   "cell_type": "code",
   "execution_count": 183,
   "metadata": {},
   "outputs": [
    {
     "data": {
      "text/html": [
       "<div>\n",
       "<style scoped>\n",
       "    .dataframe tbody tr th:only-of-type {\n",
       "        vertical-align: middle;\n",
       "    }\n",
       "\n",
       "    .dataframe tbody tr th {\n",
       "        vertical-align: top;\n",
       "    }\n",
       "\n",
       "    .dataframe thead th {\n",
       "        text-align: right;\n",
       "    }\n",
       "</style>\n",
       "<table border=\"1\" class=\"dataframe\">\n",
       "  <thead>\n",
       "    <tr style=\"text-align: right;\">\n",
       "      <th></th>\n",
       "      <th>login</th>\n",
       "      <th>followers</th>\n",
       "      <th>following</th>\n",
       "      <th>public_repos</th>\n",
       "      <th>year</th>\n",
       "      <th>Merge Count</th>\n",
       "      <th>Issue Count</th>\n",
       "      <th>Closed Pull Request Count</th>\n",
       "      <th>Merge Ratio</th>\n",
       "    </tr>\n",
       "  </thead>\n",
       "  <tbody>\n",
       "    <tr>\n",
       "      <th>0</th>\n",
       "      <td>torvalds</td>\n",
       "      <td>105246</td>\n",
       "      <td>0</td>\n",
       "      <td>6</td>\n",
       "      <td>2011</td>\n",
       "      <td>43</td>\n",
       "      <td>1</td>\n",
       "      <td>50</td>\n",
       "      <td>0.860000</td>\n",
       "    </tr>\n",
       "    <tr>\n",
       "      <th>1</th>\n",
       "      <td>JakeWharton</td>\n",
       "      <td>56024</td>\n",
       "      <td>12</td>\n",
       "      <td>99</td>\n",
       "      <td>2009</td>\n",
       "      <td>3175</td>\n",
       "      <td>1201</td>\n",
       "      <td>3358</td>\n",
       "      <td>0.945503</td>\n",
       "    </tr>\n",
       "    <tr>\n",
       "      <th>2</th>\n",
       "      <td>tj</td>\n",
       "      <td>41873</td>\n",
       "      <td>46</td>\n",
       "      <td>288</td>\n",
       "      <td>2008</td>\n",
       "      <td>125</td>\n",
       "      <td>2782</td>\n",
       "      <td>166</td>\n",
       "      <td>0.753012</td>\n",
       "    </tr>\n",
       "    <tr>\n",
       "      <th>3</th>\n",
       "      <td>mojombo</td>\n",
       "      <td>21760</td>\n",
       "      <td>11</td>\n",
       "      <td>61</td>\n",
       "      <td>2007</td>\n",
       "      <td>52</td>\n",
       "      <td>21</td>\n",
       "      <td>62</td>\n",
       "      <td>0.838710</td>\n",
       "    </tr>\n",
       "    <tr>\n",
       "      <th>4</th>\n",
       "      <td>gaearon</td>\n",
       "      <td>51812</td>\n",
       "      <td>171</td>\n",
       "      <td>239</td>\n",
       "      <td>2011</td>\n",
       "      <td>1661</td>\n",
       "      <td>1324</td>\n",
       "      <td>2004</td>\n",
       "      <td>0.828842</td>\n",
       "    </tr>\n",
       "  </tbody>\n",
       "</table>\n",
       "</div>"
      ],
      "text/plain": [
       "         login  followers  following  public_repos  year  Merge Count  \\\n",
       "0     torvalds     105246          0             6  2011           43   \n",
       "1  JakeWharton      56024         12            99  2009         3175   \n",
       "2           tj      41873         46           288  2008          125   \n",
       "3      mojombo      21760         11            61  2007           52   \n",
       "4      gaearon      51812        171           239  2011         1661   \n",
       "\n",
       "   Issue Count  Closed Pull Request Count  Merge Ratio  \n",
       "0            1                         50     0.860000  \n",
       "1         1201                       3358     0.945503  \n",
       "2         2782                        166     0.753012  \n",
       "3           21                         62     0.838710  \n",
       "4         1324                       2004     0.828842  "
      ]
     },
     "execution_count": 183,
     "metadata": {},
     "output_type": "execute_result"
    }
   ],
   "source": [
    "user_details.head()"
   ]
  },
  {
   "cell_type": "markdown",
   "metadata": {},
   "source": [
    "## Pearson's correlation coefficient "
   ]
  },
  {
   "cell_type": "code",
   "execution_count": 186,
   "metadata": {},
   "outputs": [
    {
     "data": {
      "text/html": [
       "<div>\n",
       "<style scoped>\n",
       "    .dataframe tbody tr th:only-of-type {\n",
       "        vertical-align: middle;\n",
       "    }\n",
       "\n",
       "    .dataframe tbody tr th {\n",
       "        vertical-align: top;\n",
       "    }\n",
       "\n",
       "    .dataframe thead th {\n",
       "        text-align: right;\n",
       "    }\n",
       "</style>\n",
       "<table border=\"1\" class=\"dataframe\">\n",
       "  <thead>\n",
       "    <tr style=\"text-align: right;\">\n",
       "      <th></th>\n",
       "      <th>Followers</th>\n",
       "      <th>public_repos</th>\n",
       "      <th>Merge Count</th>\n",
       "      <th>Issue Count</th>\n",
       "    </tr>\n",
       "  </thead>\n",
       "  <tbody>\n",
       "    <tr>\n",
       "      <th>Followers</th>\n",
       "      <td>1.000000</td>\n",
       "      <td></td>\n",
       "      <td></td>\n",
       "      <td></td>\n",
       "    </tr>\n",
       "    <tr>\n",
       "      <th>public_repos</th>\n",
       "      <td>-0.038089</td>\n",
       "      <td>1</td>\n",
       "      <td></td>\n",
       "      <td></td>\n",
       "    </tr>\n",
       "    <tr>\n",
       "      <th>Merge Count</th>\n",
       "      <td>0.271805</td>\n",
       "      <td>0.00605414</td>\n",
       "      <td>1</td>\n",
       "      <td></td>\n",
       "    </tr>\n",
       "    <tr>\n",
       "      <th>Issue Count</th>\n",
       "      <td>0.235073</td>\n",
       "      <td>0.0588002</td>\n",
       "      <td>0.427035</td>\n",
       "      <td>1</td>\n",
       "    </tr>\n",
       "  </tbody>\n",
       "</table>\n",
       "</div>"
      ],
      "text/plain": [
       "              Followers public_repos Merge Count Issue Count\n",
       "Followers      1.000000                                     \n",
       "public_repos  -0.038089            1                        \n",
       "Merge Count    0.271805   0.00605414           1            \n",
       "Issue Count    0.235073    0.0588002    0.427035           1"
      ]
     },
     "execution_count": 186,
     "metadata": {},
     "output_type": "execute_result"
    }
   ],
   "source": [
    "pearson_df = pd.DataFrame(columns=['Followers', 'public_repos', 'Merge Count', 'Issue Count'], index=['Followers', 'public_repos', 'Merge Count', 'Issue Count'])\n",
    "\n",
    "pearson_df['Issue Count']['Issue Count']=1\n",
    "pearson_df['public_repos']['public_repos']=1\n",
    "pearson_df['Followers']['Followers']=1\n",
    "pearson_df['Merge Count']['Merge Count']=1\n",
    "pearson_df\n",
    "\n",
    "### Merge Count\n",
    "\n",
    "pearson_df['Followers']['Merge Count'] = user_details['Merge Count'].corr(user_details['followers'])\n",
    "\n",
    "pearson_df['Merge Count']['Issue Count'] = user_details['Merge Count'].corr(user_details['Issue Count'])\n",
    "\n",
    "user_details['Merge Count'].corr(user_details['Closed Pull Request Count'])\n",
    "\n",
    "pearson_df['public_repos']['Merge Count'] = user_details['Merge Count'].corr(user_details['public_repos'])\n",
    "\n",
    "user_details['Merge Count'].corr(user_details['year'])\n",
    "\n",
    "### Followers\n",
    "\n",
    "user_details['followers'].corr(user_details['Closed Pull Request Count'])\n",
    "\n",
    "pearson_df['Followers']['public_repos'] = user_details['followers'].corr(user_details['public_repos'])\n",
    "\n",
    "user_details['followers'].corr(user_details['year'])\n",
    "\n",
    "pearson_df['Followers']['Issue Count'] = user_details['followers'].corr(user_details['Issue Count'])\n",
    "\n",
    "### Issue Count\n",
    "\n",
    "user_details['Issue Count'].corr(user_details['Closed Pull Request Count'])\n",
    "\n",
    "user_details['Issue Count'].corr(user_details['year'])\n",
    "\n",
    "pearson_df['public_repos']['Issue Count'] =user_details['Issue Count'].corr(user_details['public_repos'])\n",
    "\n",
    "### public_repos\n",
    "\n",
    "user_details['public_repos'].corr(user_details['year'])\n",
    "\n",
    "user_details['public_repos'].corr(user_details['Closed Pull Request Count'])\n",
    "\n",
    "### Closed Pull request\n",
    "\n",
    "user_details['Closed Pull Request Count'].corr(user_details['year'])\n",
    "\n",
    "user_details['year'].corr(user_details['Merge Ratio'])\n",
    "\n",
    "pearson_df = pearson_df.fillna(' ')\n",
    "\n",
    "## Pearson's Coefficient Correlation Matrix\n",
    "\n",
    "pearson_df"
   ]
  },
  {
   "cell_type": "markdown",
   "metadata": {},
   "source": [
    "## Plots"
   ]
  },
  {
   "cell_type": "code",
   "execution_count": 190,
   "metadata": {
    "scrolled": false
   },
   "outputs": [
    {
     "data": {
      "image/png": "[encoded data removed]",
      "text/plain": [
       "<Figure size 1080x360 with 1 Axes>"
      ]
     },
     "metadata": {
      "needs_background": "light"
     },
     "output_type": "display_data"
    }
   ],
   "source": [
    "ax = user_details.head(20)[['Merge Count','Issue Count']].plot(kind='bar', title =\"The number of raised issues and merged pull request per user \\n as based on top 10 follower count users\", figsize=(15, 5), legend=True, fontsize=12, stacked=False)\n",
    "ax.set_xticklabels(user_details.head(20)['login'])\n",
    "ax.set_xlabel(\"User Name\", fontsize=12)\n",
    "ax.set_ylabel(\" Number of Merged PR and Issues\", fontsize=12)\n",
    "plt.show()"
   ]
  },
  {
   "cell_type": "code",
   "execution_count": 194,
   "metadata": {},
   "outputs": [
    {
     "data": {
      "text/html": [
       "<div>\n",
       "<style scoped>\n",
       "    .dataframe tbody tr th:only-of-type {\n",
       "        vertical-align: middle;\n",
       "    }\n",
       "\n",
       "    .dataframe tbody tr th {\n",
       "        vertical-align: top;\n",
       "    }\n",
       "\n",
       "    .dataframe thead th {\n",
       "        text-align: right;\n",
       "    }\n",
       "</style>\n",
       "<table border=\"1\" class=\"dataframe\">\n",
       "  <thead>\n",
       "    <tr style=\"text-align: right;\">\n",
       "      <th></th>\n",
       "      <th>login</th>\n",
       "      <th>followers</th>\n",
       "      <th>following</th>\n",
       "      <th>public_repos</th>\n",
       "      <th>year</th>\n",
       "      <th>Merge Count</th>\n",
       "      <th>Issue Count</th>\n",
       "      <th>Closed Pull Request Count</th>\n",
       "      <th>Merge Ratio</th>\n",
       "      <th>MergedIssue</th>\n",
       "    </tr>\n",
       "  </thead>\n",
       "  <tbody>\n",
       "    <tr>\n",
       "      <th>0</th>\n",
       "      <td>JakeWharton</td>\n",
       "      <td>56024</td>\n",
       "      <td>12</td>\n",
       "      <td>99</td>\n",
       "      <td>2009</td>\n",
       "      <td>3175</td>\n",
       "      <td>1201</td>\n",
       "      <td>3358</td>\n",
       "      <td>0.945503</td>\n",
       "      <td>4376</td>\n",
       "    </tr>\n",
       "    <tr>\n",
       "      <th>1</th>\n",
       "      <td>hadley</td>\n",
       "      <td>17619</td>\n",
       "      <td>6</td>\n",
       "      <td>228</td>\n",
       "      <td>2008</td>\n",
       "      <td>390</td>\n",
       "      <td>3887</td>\n",
       "      <td>439</td>\n",
       "      <td>0.888383</td>\n",
       "      <td>4277</td>\n",
       "    </tr>\n",
       "    <tr>\n",
       "      <th>2</th>\n",
       "      <td>sindresorhus</td>\n",
       "      <td>36130</td>\n",
       "      <td>50</td>\n",
       "      <td>1026</td>\n",
       "      <td>2009</td>\n",
       "      <td>1062</td>\n",
       "      <td>2769</td>\n",
       "      <td>1255</td>\n",
       "      <td>0.846215</td>\n",
       "      <td>3831</td>\n",
       "    </tr>\n",
       "    <tr>\n",
       "      <th>3</th>\n",
       "      <td>gaearon</td>\n",
       "      <td>51812</td>\n",
       "      <td>171</td>\n",
       "      <td>239</td>\n",
       "      <td>2011</td>\n",
       "      <td>1661</td>\n",
       "      <td>1324</td>\n",
       "      <td>2004</td>\n",
       "      <td>0.828842</td>\n",
       "      <td>2985</td>\n",
       "    </tr>\n",
       "    <tr>\n",
       "      <th>4</th>\n",
       "      <td>tj</td>\n",
       "      <td>41873</td>\n",
       "      <td>46</td>\n",
       "      <td>288</td>\n",
       "      <td>2008</td>\n",
       "      <td>125</td>\n",
       "      <td>2782</td>\n",
       "      <td>166</td>\n",
       "      <td>0.753012</td>\n",
       "      <td>2907</td>\n",
       "    </tr>\n",
       "  </tbody>\n",
       "</table>\n",
       "</div>"
      ],
      "text/plain": [
       "          login  followers  following  public_repos  year  Merge Count  \\\n",
       "0   JakeWharton      56024         12            99  2009         3175   \n",
       "1        hadley      17619          6           228  2008          390   \n",
       "2  sindresorhus      36130         50          1026  2009         1062   \n",
       "3       gaearon      51812        171           239  2011         1661   \n",
       "4            tj      41873         46           288  2008          125   \n",
       "\n",
       "   Issue Count  Closed Pull Request Count  Merge Ratio  MergedIssue  \n",
       "0         1201                       3358     0.945503         4376  \n",
       "1         3887                        439     0.888383         4277  \n",
       "2         2769                       1255     0.846215         3831  \n",
       "3         1324                       2004     0.828842         2985  \n",
       "4         2782                        166     0.753012         2907  "
      ]
     },
     "execution_count": 194,
     "metadata": {},
     "output_type": "execute_result"
    }
   ],
   "source": [
    "user_details['MergedIssue'] = user_details['Merge Count'] + user_details['Issue Count']\n",
    "sorted_by_merge_issue_df = user_details.sort_values(['MergedIssue'], ascending=False)\n",
    "sorted_by_merge_issue_df.to_excel('File MergedIssue user.xlsx', index=False)\n",
    "sorted_by_merge_issue_df = pd.read_excel('File MergedIssue user.xlsx')\n",
    "sorted_by_merge_issue_df.head()"
   ]
  },
  {
   "cell_type": "code",
   "execution_count": 192,
   "metadata": {},
   "outputs": [
    {
     "data": {
      "image/png": "[encoded data removed]",
      "text/plain": [
       "<Figure size 1080x360 with 1 Axes>"
      ]
     },
     "metadata": {
      "needs_background": "light"
     },
     "output_type": "display_data"
    }
   ],
   "source": [
    "ax = sorted_by_merge_issue_df.head(20)[['Merge Count','Issue Count']].plot(kind='bar', title =\"The number of raised issues and merged pull request per user \\n sorted by combination of issues and merged PR\", figsize=(15, 5), legend=True, fontsize=12, stacked=False)\n",
    "ax.set_xticklabels(sorted_by_merge_issue_df.head(20)['login'])\n",
    "ax.set_xlabel(\"User Name\", fontsize=12)\n",
    "ax.set_ylabel(\" Number of Merged PR and Issues\", fontsize=12)\n",
    "plt.show()"
   ]
  },
  {
   "cell_type": "code",
   "execution_count": 213,
   "metadata": {},
   "outputs": [
    {
     "name": "stdout",
     "output_type": "stream",
     "text": [
      "Intersection =  8\n"
     ]
    }
   ],
   "source": [
    "a= list(sorted_by_merge_issue_df.login.head(20))\n",
    "\n",
    "b= list(user_details.login.head(20))\n",
    "\n",
    "def intersection(a, b): \n",
    "    return list(set(a) & set(b)) \n",
    "\n",
    "print(\"Intersection = \", len(intersection(a, b)))"
   ]
  },
  {
   "cell_type": "code",
   "execution_count": 197,
   "metadata": {},
   "outputs": [],
   "source": [
    "sorted_by_merge_issue_df['merge_per'] = round(sorted_by_merge_issue_df['Merge Count']/sorted_by_merge_issue_df['MergedIssue']*100)\n",
    "sorted_by_merge_issue_df['issue_per'] = round(sorted_by_merge_issue_df['Issue Count']/sorted_by_merge_issue_df['MergedIssue']*100)"
   ]
  },
  {
   "cell_type": "markdown",
   "metadata": {},
   "source": [
    "## Merge request likelihood for software people"
   ]
  },
  {
   "cell_type": "code",
   "execution_count": 198,
   "metadata": {},
   "outputs": [],
   "source": [
    "sorted_by_merge_issue_df['likely'] = sorted_by_merge_issue_df['Issue Count'].head(100) < sorted_by_merge_issue_df['Merge Count'].head(100)"
   ]
  },
  {
   "cell_type": "code",
   "execution_count": 199,
   "metadata": {},
   "outputs": [
    {
     "data": {
      "text/plain": [
       "False    61\n",
       "True     39\n",
       "Name: likely, dtype: int64"
      ]
     },
     "execution_count": 199,
     "metadata": {},
     "output_type": "execute_result"
    }
   ],
   "source": [
    "sorted_by_merge_issue_df['likely'].value_counts()"
   ]
  },
  {
   "cell_type": "markdown",
   "metadata": {},
   "source": [
    "## Merge request likelihood for social people"
   ]
  },
  {
   "cell_type": "code",
   "execution_count": 204,
   "metadata": {},
   "outputs": [],
   "source": [
    "user_details['likely'] = user_details['Issue Count'] < user_details['Merge Count']"
   ]
  },
  {
   "cell_type": "code",
   "execution_count": 205,
   "metadata": {},
   "outputs": [
    {
     "data": {
      "text/plain": [
       "False    61\n",
       "True     39\n",
       "Name: likely, dtype: int64"
      ]
     },
     "execution_count": 205,
     "metadata": {},
     "output_type": "execute_result"
    }
   ],
   "source": [
    "user_details['likely'].value_counts()"
   ]
  },
  {
   "cell_type": "code",
   "execution_count": 209,
   "metadata": {},
   "outputs": [],
   "source": [
    "sorted_by_merge_issue_df['likely'] = np.where(sorted_by_merge_issue_df['Merge Ratio'] > user_details['Merge Ratio'], 'True', 'False')"
   ]
  },
  {
   "cell_type": "code",
   "execution_count": 210,
   "metadata": {},
   "outputs": [
    {
     "data": {
      "text/plain": [
       "False    54\n",
       "True     46\n",
       "Name: likely, dtype: int64"
      ]
     },
     "execution_count": 210,
     "metadata": {},
     "output_type": "execute_result"
    }
   ],
   "source": [
    "sorted_by_merge_issue_df['likely'].value_counts()"
   ]
  }
 ],
 "metadata": {
  "kernelspec": {
   "display_name": "Python 3",
   "language": "python",
   "name": "python3"
  },
  "language_info": {
   "codemirror_mode": {
    "name": "ipython",
    "version": 3
   },
   "file_extension": ".py",
   "mimetype": "text/x-python",
   "name": "python",
   "nbconvert_exporter": "python",
   "pygments_lexer": "ipython3",
   "version": "3.7.0"
  }
 },
 "nbformat": 4,
 "nbformat_minor": 2
}
