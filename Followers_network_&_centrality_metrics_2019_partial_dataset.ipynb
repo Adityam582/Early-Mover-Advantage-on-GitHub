{
  "nbformat": 4,
  "nbformat_minor": 0,
  "metadata": {
    "kernelspec": {
      "display_name": "Python 3",
      "language": "python",
      "name": "python3"
    },
    "language_info": {
      "codemirror_mode": {
        "name": "ipython",
        "version": 3
      },
      "file_extension": ".py",
      "mimetype": "text/x-python",
      "name": "python",
      "nbconvert_exporter": "python",
      "pygments_lexer": "ipython3",
      "version": "3.7.3"
    },
    "colab": {
      "name": "Followers network & centrality metrics - 2019 - partial dataset.ipynb",
      "provenance": [],
      "collapsed_sections": [],
      "machine_shape": "hm",
      "include_colab_link": true
    }
  },
  "cells": [
    {
      "cell_type": "markdown",
      "metadata": {
        "id": "view-in-github",
        "colab_type": "text"
      },
      "source": [
        "<a href=\"https://colab.research.google.com/github/zyan369/RL19-Opinion-Leaders/blob/master/Followers_network_%26_centrality_metrics_2019_partial_dataset.ipynb\" target=\"_parent\"><img src=\"https://colab.research.google.com/assets/colab-badge.svg\" alt=\"Open In Colab\"/></a>"
      ]
    },
    {
      "cell_type": "code",
      "metadata": {
        "id": "VZKv7SrMVRFm",
        "colab_type": "code",
        "colab": {}
      },
      "source": [
        "#a=[]\n",
        "#while(1):\n",
        "    #a.append(1)"
      ],
      "execution_count": 0,
      "outputs": []
    },
    {
      "cell_type": "code",
      "metadata": {
        "id": "oLGzG9cCVLPs",
        "colab_type": "code",
        "colab": {}
      },
      "source": [
        "from IPython.core.interactiveshell import InteractiveShell\n",
        "InteractiveShell.ast_node_interactivity = \"all\"\n",
        "import matplotlib.pyplot as plt\n",
        "import networkx as nx  \n",
        "import pandas as pd\n",
        "import numpy as np\n",
        "from scipy import sparse\n",
        "import gc\n",
        "import os"
      ],
      "execution_count": 0,
      "outputs": []
    },
    {
      "cell_type": "code",
      "metadata": {
        "id": "SbwAsrybZskw",
        "colab_type": "code",
        "outputId": "8897b2b4-b292-4012-c91d-78270f65bc8c",
        "colab": {
          "base_uri": "https://localhost:8080/",
          "height": 128
        }
      },
      "source": [
        "from google.colab import drive\n",
        "drive.mount('/content/drive')"
      ],
      "execution_count": 4,
      "outputs": [
        {
          "output_type": "stream",
          "text": [
            "Go to this URL in a browser: https://accounts.google.com/o/oauth2/auth?client_id=947318989803-6bn6qk8qdgf4n4g3pfee6491hc0brc4i.apps.googleusercontent.com&redirect_uri=urn%3aietf%3awg%3aoauth%3a2.0%3aoob&response_type=code&scope=email%20https%3a%2f%2fwww.googleapis.com%2fauth%2fdocs.test%20https%3a%2f%2fwww.googleapis.com%2fauth%2fdrive%20https%3a%2f%2fwww.googleapis.com%2fauth%2fdrive.photos.readonly%20https%3a%2f%2fwww.googleapis.com%2fauth%2fpeopleapi.readonly\n",
            "\n",
            "Enter your authorization code:\n",
            "··········\n",
            "Mounted at /content/drive\n"
          ],
          "name": "stdout"
        }
      ]
    },
    {
      "cell_type": "code",
      "metadata": {
        "id": "q2ZAmJbVaDmJ",
        "colab_type": "code",
        "colab": {}
      },
      "source": [
        "os.chdir(\"drive\")\n",
        "os.chdir(\"My Drive\")\n",
        "os.chdir(\"Colab Notebooks\")"
      ],
      "execution_count": 0,
      "outputs": []
    },
    {
      "cell_type": "markdown",
      "metadata": {
        "id": "NY-jF9APVLQA",
        "colab_type": "text"
      },
      "source": [
        "## Utility functions\n",
        "Utility functions created to process data from long dictionaries."
      ]
    },
    {
      "cell_type": "markdown",
      "metadata": {
        "id": "ljnLbRRHVLQH",
        "colab_type": "text"
      },
      "source": [
        ">### degree_freq(G)\n",
        "\n",
        "<br>**PARAMETERS:** G (graph) – A NetworkX graph.\n",
        "<br>\n",
        "<br>**RETURNS:**\n",
        "<br>in_deg_freq --> Dictionary of Indegree values (as keys) and the number of nodes that have that indegree  (as a value).\n",
        "<br>out_deg_freq --> Dictionary of Outdegree values (as keys) and the number of nodes that have that outdegree (as a value).\n",
        "<br>all_in_deg --> Dictionary of all nodes, with their indegree as value (native function of NetworkX does not return a dictionary)\n",
        "<br> all_out_deg --> Dictionary of all nodes, with their outdegree as value (native function of NetworkX does not return a dictionary)\n",
        "<br>\n",
        "<br>**RETURN TYPE:** dictionary\n"
      ]
    },
    {
      "cell_type": "code",
      "metadata": {
        "id": "TstOmtmUVLQM",
        "colab_type": "code",
        "colab": {}
      },
      "source": [
        "def degree_freq(graph):\n",
        "    in_deg_freq = {}\n",
        "    all_in_deg ={}\n",
        "\n",
        "    out_deg_freq = {}\n",
        "    all_out_deg ={}\n",
        "    \n",
        "    for n in graph.nodes():\n",
        "        in_deg = graph.in_degree(n)\n",
        "        out_deg= graph.out_degree(n)\n",
        "        \n",
        "        all_in_deg[n] = in_deg\n",
        "        all_out_deg[n]= out_deg\n",
        "        \n",
        "        if in_deg not in in_deg_freq:\n",
        "            in_deg_freq[in_deg] = 0\n",
        "        in_deg_freq[in_deg]+= 1\n",
        "        \n",
        "        if out_deg not in out_deg_freq:\n",
        "            out_deg_freq[out_deg] = 0\n",
        "        out_deg_freq[out_deg]+= 1      \n",
        "    \n",
        "    return in_deg_freq, all_in_deg, out_deg_freq, all_out_deg"
      ],
      "execution_count": 0,
      "outputs": []
    },
    {
      "cell_type": "markdown",
      "metadata": {
        "id": "TyFB1c3jVLQX",
        "colab_type": "text"
      },
      "source": [
        ">### get_top_values(d, t)\n",
        "\n",
        "Given a dictionary, this function orders it by the value (descending order) and returns a smaller dictionary with the N-top values with their keys.\n",
        "**PARAMETERS:** \n",
        "<br> d (dictionary) – a dictionary with un-ordered values\n",
        "<br> t (int) – the number of top values to retrieve\n",
        "<br>**RETURNS:**\n",
        "<br> new_d --> Dictionary with ordered keys, with highest values.\n",
        "<br>**RETURN TYPE:** dictionary\n"
      ]
    },
    {
      "cell_type": "code",
      "metadata": {
        "id": "gaf_4W2BVLQb",
        "colab_type": "code",
        "colab": {}
      },
      "source": [
        "def get_top_values(d, t):\n",
        "    new_d={}\n",
        "    sorted_keys = sorted(d, key=d.get, reverse=True)\n",
        "    for x in sorted_keys[:t]:\n",
        "        new_d[x] = d[x]\n",
        "    return new_d"
      ],
      "execution_count": 0,
      "outputs": []
    },
    {
      "cell_type": "markdown",
      "metadata": {
        "id": "BcCc9-3SVLQk",
        "colab_type": "text"
      },
      "source": [
        ">### get_top_keys(D,top)\n",
        "\n",
        "Given a dictionary, this function orders it by the key (descending order) and returns a list of tuples, with the N-top keys and their values.\n",
        "**PARAMETERS:** \n",
        "<br> D (dictionary) – a dictionary with un-ordered keys\n",
        "<br> top (int) – the number of n top values \n",
        "<br>**RETURNS:**\n",
        "<br> item --> List of tuples (key,value)\n",
        "<br>**RETURN TYPE:** list\n"
      ]
    },
    {
      "cell_type": "code",
      "metadata": {
        "id": "WmoWKucvVLQx",
        "colab_type": "code",
        "colab": {}
      },
      "source": [
        "def get_top_keys(dictionary, top):\n",
        "    item = list(reversed(sorted(dictionary.items())))\n",
        "    return item[:top]"
      ],
      "execution_count": 0,
      "outputs": []
    },
    {
      "cell_type": "markdown",
      "metadata": {
        "id": "zXBMFN7kVLQ9",
        "colab_type": "text"
      },
      "source": [
        "## Load dataset of users & followers\n",
        "For this purpose, we are using the files *followers.csv* and *users.csv*, contained in the MySQL dump that is published by **The GHTorrent project**.\n",
        "<br>The file *followers.csv* contains three columns, containing the date of creation of the link and the user IDs, indicating if a user follows another. In graphs and network theory, this type of table it is know as \"adjacency list\". \n",
        "<br>\n",
        "<br>The file *users.csv* contains several columns with user information(user name, id, creation of the account, country, company, email, etc). We use this table only to map the relationship between *user ID number* and *login name*.\n",
        "<br>\n",
        "<br>The used tables contain all users ( and their relationships) that were created **until January 2019**.\n",
        "<br>\n",
        "<br>__[Link to download the MySQL dump: mysql-2019-01-01.tar.gz (size of 90.1 GB)](http://ghtorrent-downloads.ewi.tudelft.nl/mysql/mysql-2019-01-01.tar.gz)__"
      ]
    },
    {
      "cell_type": "code",
      "metadata": {
        "id": "HxU3JoHVVLRA",
        "colab_type": "code",
        "colab": {}
      },
      "source": [
        "#LOAD DATA FROM CSV, only load the first two columns\n",
        "df_f = pd.read_csv('./new_upload_Aditya/followers.csv', index_col=False, usecols=[0,1], names=['follower_id', 'user_id'])"
      ],
      "execution_count": 0,
      "outputs": []
    },
    {
      "cell_type": "code",
      "metadata": {
        "id": "GU_LwMBfwvis",
        "colab_type": "code",
        "outputId": "d0658218-87d9-49b7-a5bb-baef0a4d483f",
        "colab": {
          "base_uri": "https://localhost:8080/",
          "height": 224
        }
      },
      "source": [
        "df_f.shape[0]\n",
        "df_f.head()"
      ],
      "execution_count": 11,
      "outputs": [
        {
          "output_type": "execute_result",
          "data": {
            "text/plain": [
              "29809738"
            ]
          },
          "metadata": {
            "tags": []
          },
          "execution_count": 11
        },
        {
          "output_type": "execute_result",
          "data": {
            "text/html": [
              "<div>\n",
              "<style scoped>\n",
              "    .dataframe tbody tr th:only-of-type {\n",
              "        vertical-align: middle;\n",
              "    }\n",
              "\n",
              "    .dataframe tbody tr th {\n",
              "        vertical-align: top;\n",
              "    }\n",
              "\n",
              "    .dataframe thead th {\n",
              "        text-align: right;\n",
              "    }\n",
              "</style>\n",
              "<table border=\"1\" class=\"dataframe\">\n",
              "  <thead>\n",
              "    <tr style=\"text-align: right;\">\n",
              "      <th></th>\n",
              "      <th>follower_id</th>\n",
              "      <th>user_id</th>\n",
              "    </tr>\n",
              "  </thead>\n",
              "  <tbody>\n",
              "    <tr>\n",
              "      <th>0</th>\n",
              "      <td>1</td>\n",
              "      <td>2</td>\n",
              "    </tr>\n",
              "    <tr>\n",
              "      <th>1</th>\n",
              "      <td>1</td>\n",
              "      <td>4</td>\n",
              "    </tr>\n",
              "    <tr>\n",
              "      <th>2</th>\n",
              "      <td>1</td>\n",
              "      <td>17896</td>\n",
              "    </tr>\n",
              "    <tr>\n",
              "      <th>3</th>\n",
              "      <td>1</td>\n",
              "      <td>21523</td>\n",
              "    </tr>\n",
              "    <tr>\n",
              "      <th>4</th>\n",
              "      <td>1</td>\n",
              "      <td>29121</td>\n",
              "    </tr>\n",
              "  </tbody>\n",
              "</table>\n",
              "</div>"
            ],
            "text/plain": [
              "   follower_id  user_id\n",
              "0            1        2\n",
              "1            1        4\n",
              "2            1    17896\n",
              "3            1    21523\n",
              "4            1    29121"
            ]
          },
          "metadata": {
            "tags": []
          },
          "execution_count": 11
        }
      ]
    },
    {
      "cell_type": "markdown",
      "metadata": {
        "id": "dDZLhX9HVLRS",
        "colab_type": "text"
      },
      "source": [
        "### Preliminar size of full network\n",
        "Before creating the Network, we can get some preliminar statistic about it:\n",
        "<br>Number of edges (connections) = **29,809,738**\n"
      ]
    },
    {
      "cell_type": "code",
      "metadata": {
        "id": "r3iwY_QIVLRW",
        "colab_type": "code",
        "outputId": "ef272e20-ed40-4b27-d215-55eb38518ba7",
        "colab": {
          "base_uri": "https://localhost:8080/",
          "height": 35
        }
      },
      "source": [
        "print(\"Number of edges:\", df_f.shape[0])"
      ],
      "execution_count": 12,
      "outputs": [
        {
          "output_type": "stream",
          "text": [
            "Number of edges: 29809738\n"
          ],
          "name": "stdout"
        }
      ]
    },
    {
      "cell_type": "markdown",
      "metadata": {
        "id": "eZmtrDxUVLRf",
        "colab_type": "text"
      },
      "source": [
        "### Create full network of users"
      ]
    },
    {
      "cell_type": "code",
      "metadata": {
        "id": "znxdh9ScVLRi",
        "colab_type": "code",
        "colab": {}
      },
      "source": [
        "#create empty directed Graph\n",
        "full_followers_graph = nx.DiGraph()"
      ],
      "execution_count": 0,
      "outputs": []
    },
    {
      "cell_type": "code",
      "metadata": {
        "id": "v48lKj3MVLRq",
        "colab_type": "code",
        "colab": {}
      },
      "source": [
        "# the directed graph maps the direction as: [follower --> user]\n",
        "# for this purpose, the graph is created using the dataframe as a list\n",
        "full_followers_graph.add_edges_from(df_f.values.tolist())\n"
      ],
      "execution_count": 0,
      "outputs": []
    },
    {
      "cell_type": "code",
      "metadata": {
        "id": "w6V58-eLVLRz",
        "colab_type": "code",
        "colab": {
          "base_uri": "https://localhost:8080/",
          "height": 126
        },
        "outputId": "1450db55-e33f-4b6d-ef81-8e61094949ab"
      },
      "source": [
        "# print and check some stats about the full network\n",
        "print(nx.info(full_followers_graph))"
      ],
      "execution_count": 15,
      "outputs": [
        {
          "output_type": "stream",
          "text": [
            "Name: \n",
            "Type: DiGraph\n",
            "Number of nodes: 5375944\n",
            "Number of edges: 29809738\n",
            "Average in degree:   5.5450\n",
            "Average out degree:   5.5450\n"
          ],
          "name": "stdout"
        }
      ]
    },
    {
      "cell_type": "code",
      "metadata": {
        "id": "JQpB2VYSVLR6",
        "colab_type": "code",
        "colab": {}
      },
      "source": [
        "# calculates some statistics\n",
        "in_deg_freq, all_in_deg, out_deg_freq, all_out_deg = degree_freq(full_followers_graph)"
      ],
      "execution_count": 0,
      "outputs": []
    },
    {
      "cell_type": "code",
      "metadata": {
        "id": "OeN6mxYBVLSC",
        "colab_type": "code",
        "colab": {}
      },
      "source": [
        "#since we are not doing further calculations with this full network, we release the memory \n",
        "del full_followers_graph"
      ],
      "execution_count": 0,
      "outputs": []
    },
    {
      "cell_type": "code",
      "metadata": {
        "id": "oXGQARsHVLSJ",
        "colab_type": "code",
        "colab": {
          "base_uri": "https://localhost:8080/",
          "height": 35
        },
        "outputId": "a3a5d3ad-4d90-4505-c605-ac30b5122ea9"
      },
      "source": [
        "#use the Garbage collect utility\n",
        "gc.collect()\n",
        "gc.collect()"
      ],
      "execution_count": 19,
      "outputs": [
        {
          "output_type": "execute_result",
          "data": {
            "text/plain": [
              "0"
            ]
          },
          "metadata": {
            "tags": []
          },
          "execution_count": 19
        },
        {
          "output_type": "execute_result",
          "data": {
            "text/plain": [
              "0"
            ]
          },
          "metadata": {
            "tags": []
          },
          "execution_count": 19
        }
      ]
    },
    {
      "cell_type": "markdown",
      "metadata": {
        "id": "eM4t3poeVLSR",
        "colab_type": "text"
      },
      "source": [
        "### Identify nodes to remove\n",
        "\n",
        "Since we lack the computational power to compute Page Rank for such a big network (**5,375,944 nodes** with **29,809,738 connections** between them), the following modeling choice was taken: \n",
        ">Trim from the network nodes with 5 followers or less AND that are following 5 or less users (average in/out degree is 5.5450).\n",
        "\n",
        ">There are inactive users and users who belong to organizations (type=0 or ORG). Because we focus on people, only accounts associated with people will be included.\n",
        "\n",
        "<br>\n",
        "<br>Therefore, is necesary to identify users that fill the conditions:\n",
        "\n",
        "> indegree>=5 AND outdegree>=5)\n",
        "\n",
        "> type = 0 or type = ORG\n",
        "\n",
        "\n",
        "\n"
      ]
    },
    {
      "cell_type": "code",
      "metadata": {
        "id": "MJkPKwDTrFui",
        "colab_type": "code",
        "colab": {}
      },
      "source": [
        "# transform statistics into pandas dataframe\n",
        "df_all_in_degree = pd.Series(all_in_deg).to_frame('number_followers')\n",
        "df_all_in_degree['user_id'] = df_all_in_degree.index\n",
        "df_all_in_degree.reset_index(inplace=True,drop=True)\n",
        "#swap cols\n",
        "#df_all_in_degree = df_all_in_degree.reindex(columns=['user_id', 'number_followers'])"
      ],
      "execution_count": 0,
      "outputs": []
    },
    {
      "cell_type": "code",
      "metadata": {
        "id": "7rMESI0nsKC-",
        "colab_type": "code",
        "colab": {
          "base_uri": "https://localhost:8080/",
          "height": 35
        },
        "outputId": "21361ec6-7882-4382-ccd4-465218acb7b5"
      },
      "source": [
        "df_all_in_degree.shape[0]"
      ],
      "execution_count": 21,
      "outputs": [
        {
          "output_type": "execute_result",
          "data": {
            "text/plain": [
              "5375944"
            ]
          },
          "metadata": {
            "tags": []
          },
          "execution_count": 21
        }
      ]
    },
    {
      "cell_type": "code",
      "metadata": {
        "id": "CfOMvmi3rHfn",
        "colab_type": "code",
        "colab": {}
      },
      "source": [
        "# transform into pandas dataframe\n",
        "df_all_out_degree = pd.Series(all_out_deg).to_frame('following')\n",
        "df_all_out_degree['user_id'] = df_all_out_degree.index\n",
        "df_all_out_degree.reset_index(inplace=True,drop=True)\n",
        "#swap cols\n",
        "#df_all_out_degree = df_all_out_degree.reindex(columns=['user_id', 'following'])\n"
      ],
      "execution_count": 0,
      "outputs": []
    },
    {
      "cell_type": "code",
      "metadata": {
        "id": "6jhB3OemsHJp",
        "colab_type": "code",
        "colab": {
          "base_uri": "https://localhost:8080/",
          "height": 35
        },
        "outputId": "57482731-bcff-45d2-953e-df8137952e74"
      },
      "source": [
        "df_all_out_degree.shape[0]"
      ],
      "execution_count": 23,
      "outputs": [
        {
          "output_type": "execute_result",
          "data": {
            "text/plain": [
              "5375944"
            ]
          },
          "metadata": {
            "tags": []
          },
          "execution_count": 23
        }
      ]
    },
    {
      "cell_type": "code",
      "metadata": {
        "id": "KxunlnKVrGcX",
        "colab_type": "code",
        "colab": {}
      },
      "source": [
        "#release memory\n",
        "del all_in_deg\n",
        "del all_out_deg"
      ],
      "execution_count": 0,
      "outputs": []
    },
    {
      "cell_type": "code",
      "metadata": {
        "id": "VY-Zq43-rgJZ",
        "colab_type": "code",
        "colab": {
          "base_uri": "https://localhost:8080/",
          "height": 35
        },
        "outputId": "f39272d8-0e95-40b3-eece-889a9e1c41e8"
      },
      "source": [
        "#use the Garbage collect utility\n",
        "gc.collect()\n",
        "gc.collect()"
      ],
      "execution_count": 26,
      "outputs": [
        {
          "output_type": "execute_result",
          "data": {
            "text/plain": [
              "0"
            ]
          },
          "metadata": {
            "tags": []
          },
          "execution_count": 26
        },
        {
          "output_type": "execute_result",
          "data": {
            "text/plain": [
              "0"
            ]
          },
          "metadata": {
            "tags": []
          },
          "execution_count": 26
        }
      ]
    },
    {
      "cell_type": "code",
      "metadata": {
        "id": "Z1TxznKnrgFK",
        "colab_type": "code",
        "colab": {
          "base_uri": "https://localhost:8080/",
          "height": 35
        },
        "outputId": "c9ce129b-13e1-44fd-c319-8eb9940bdd83"
      },
      "source": [
        "# Identify Users with 5 followers or less = 4,608,226\n",
        "#(df_all_in_degree.loc[ df_all_in_degree['number_followers'] <=5 ]).shape[0]\n",
        "df_remove_indegree = (df_all_in_degree.loc[ df_all_in_degree['number_followers'] <=5 ])\n",
        "df_remove_indegree.shape[0]\n",
        "#df_remove_indegree.head()"
      ],
      "execution_count": 27,
      "outputs": [
        {
          "output_type": "execute_result",
          "data": {
            "text/plain": [
              "4608226"
            ]
          },
          "metadata": {
            "tags": []
          },
          "execution_count": 27
        }
      ]
    },
    {
      "cell_type": "code",
      "metadata": {
        "id": "2BZBW_XnsVyY",
        "colab_type": "code",
        "colab": {
          "base_uri": "https://localhost:8080/",
          "height": 35
        },
        "outputId": "3a02e8a4-429e-467e-e7f4-3fc36f2d566e"
      },
      "source": [
        "# Identify Users following 5 or less people= 4,523,454\n",
        "#(df_all_out_degree.loc[ df_all_out_degree['following'] <=5 ]).shape[0]\n",
        "df_remove_outdegree = (df_all_out_degree.loc[ df_all_out_degree['following'] <=5 ])\n",
        "df_remove_outdegree.shape[0]\n",
        "#df_remove_outdegree.head()"
      ],
      "execution_count": 28,
      "outputs": [
        {
          "output_type": "execute_result",
          "data": {
            "text/plain": [
              "4523454"
            ]
          },
          "metadata": {
            "tags": []
          },
          "execution_count": 28
        }
      ]
    },
    {
      "cell_type": "code",
      "metadata": {
        "id": "RkTt_K0esVvy",
        "colab_type": "code",
        "colab": {}
      },
      "source": [
        "# we don't need that column\n",
        "del df_remove_indegree['number_followers']"
      ],
      "execution_count": 0,
      "outputs": []
    },
    {
      "cell_type": "code",
      "metadata": {
        "id": "u_6VKHJ9sVsQ",
        "colab_type": "code",
        "colab": {}
      },
      "source": [
        "# we don't need that column\n",
        "del df_remove_outdegree['following']"
      ],
      "execution_count": 0,
      "outputs": []
    },
    {
      "cell_type": "code",
      "metadata": {
        "id": "kj-1vc6gsVmX",
        "colab_type": "code",
        "colab": {
          "base_uri": "https://localhost:8080/",
          "height": 35
        },
        "outputId": "44da494e-bffc-470f-fa8e-d9c07659c870"
      },
      "source": [
        "# we do a left join, meaning that we aim to delete nodes that\n",
        "# are following 5 users or less, ONLY if they are being follow by 5 users or less\n",
        "# Users considered to remove: 4,608,226\n",
        "df_remove= df_remove_indegree.merge(df_remove_outdegree, how='left')\n",
        "df_remove.shape[0]\n",
        "#df_remove.head()"
      ],
      "execution_count": 31,
      "outputs": [
        {
          "output_type": "execute_result",
          "data": {
            "text/plain": [
              "4608226"
            ]
          },
          "metadata": {
            "tags": []
          },
          "execution_count": 31
        }
      ]
    },
    {
      "cell_type": "code",
      "metadata": {
        "id": "NXIAsWWusxY4",
        "colab_type": "code",
        "colab": {}
      },
      "source": [
        "#release memory\n",
        "del df_remove_outdegree\n",
        "del df_remove_indegree\n",
        "del df_all_out_degree\n",
        "del df_all_in_degree"
      ],
      "execution_count": 0,
      "outputs": []
    },
    {
      "cell_type": "code",
      "metadata": {
        "id": "BrhrCsBpsxVS",
        "colab_type": "code",
        "colab": {
          "base_uri": "https://localhost:8080/",
          "height": 35
        },
        "outputId": "cbff92a8-f8d4-4e07-ad8e-8df6e5fe1397"
      },
      "source": [
        "#use the Garbage collect utility\n",
        "gc.collect()\n",
        "gc.collect()"
      ],
      "execution_count": 33,
      "outputs": [
        {
          "output_type": "execute_result",
          "data": {
            "text/plain": [
              "0"
            ]
          },
          "metadata": {
            "tags": []
          },
          "execution_count": 33
        },
        {
          "output_type": "execute_result",
          "data": {
            "text/plain": [
              "0"
            ]
          },
          "metadata": {
            "tags": []
          },
          "execution_count": 33
        }
      ]
    },
    {
      "cell_type": "code",
      "metadata": {
        "id": "_c_dIDuhsxHp",
        "colab_type": "code",
        "colab": {
          "base_uri": "https://localhost:8080/",
          "height": 271
        },
        "outputId": "53340064-fd7b-4f66-d034-859794cea0c6"
      },
      "source": [
        "import sys\n",
        "# These are the usual ipython objects, including this one you are creating\n",
        "ipython_vars = ['In', 'Out', 'exit', 'quit', 'get_ipython', 'ipython_vars']\n",
        "\n",
        "# Get a sorted list of the objects and their sizes\n",
        "sorted([(x, sys.getsizeof(globals().get(x))) for x in dir() if not x.startswith('_') and x not in sys.modules and x not in ipython_vars], key=lambda x: x[1], reverse=True)"
      ],
      "execution_count": 34,
      "outputs": [
        {
          "output_type": "execute_result",
          "data": {
            "text/plain": [
              "[('df_f', 476955960),\n",
              " ('df_remove', 73731640),\n",
              " ('in_deg_freq', 73824),\n",
              " ('out_deg_freq', 73824),\n",
              " ('InteractiveShell', 1056),\n",
              " ('degree_freq', 136),\n",
              " ('get_top_keys', 136),\n",
              " ('get_top_values', 136),\n",
              " ('drive', 80),\n",
              " ('np', 80),\n",
              " ('nx', 80),\n",
              " ('pd', 80),\n",
              " ('plt', 80),\n",
              " ('sparse', 80)]"
            ]
          },
          "metadata": {
            "tags": []
          },
          "execution_count": 34
        }
      ]
    },
    {
      "cell_type": "code",
      "metadata": {
        "id": "NUrBxKQEVLRH",
        "colab_type": "code",
        "outputId": "295d37f4-7bc5-4a2c-9957-24c82bcdc6f3",
        "colab": {
          "base_uri": "https://localhost:8080/",
          "height": 1000
        }
      },
      "source": [
        "# we load this file to identify users with type = 0 or type =ORG\n",
        "#LOAD DATA FROM CSV\n",
        "df_u = pd.read_csv('./new_upload_Aditya/users.csv', sep=',', index_col=False, error_bad_lines=False)\n",
        "\n",
        "#We need to cut the columns we are not going to use and change the header of the dataframe\n",
        "df_u.columns = ['id', 'login','company','created_at','type','fake','deleted','long','lat','country_code','state','city','location']\n",
        "cols_to_keep = ['id', 'login','type']\n",
        "df_u = df_u[cols_to_keep]\n",
        "df_u.head()"
      ],
      "execution_count": 35,
      "outputs": [
        {
          "output_type": "stream",
          "text": [
            "b'Skipping line 28844: expected 13 fields, saw 14\\n'\n",
            "b'Skipping line 127060: expected 13 fields, saw 16\\nSkipping line 130093: expected 13 fields, saw 14\\n'\n",
            "b'Skipping line 140110: expected 13 fields, saw 14\\n'\n",
            "b'Skipping line 223215: expected 13 fields, saw 16\\nSkipping line 240360: expected 13 fields, saw 15\\n'\n",
            "b'Skipping line 274140: expected 13 fields, saw 14\\nSkipping line 287603: expected 13 fields, saw 14\\nSkipping line 303874: expected 13 fields, saw 14\\nSkipping line 327509: expected 13 fields, saw 15\\n'\n",
            "b'Skipping line 455083: expected 13 fields, saw 14\\n'\n",
            "b'Skipping line 491713: expected 13 fields, saw 14\\n'\n",
            "b'Skipping line 828312: expected 13 fields, saw 14\\n'\n",
            "b'Skipping line 870291: expected 13 fields, saw 15\\n'\n",
            "b'Skipping line 935277: expected 13 fields, saw 14\\n'\n",
            "b'Skipping line 1117721: expected 13 fields, saw 24\\nSkipping line 1132208: expected 13 fields, saw 14\\n'\n",
            "b'Skipping line 1257324: expected 13 fields, saw 15\\n'\n",
            "b'Skipping line 1353050: expected 13 fields, saw 14\\nSkipping line 1362652: expected 13 fields, saw 14\\n'\n",
            "b'Skipping line 1592961: expected 13 fields, saw 15\\n'\n",
            "b'Skipping line 1642547: expected 13 fields, saw 14\\nSkipping line 1660696: expected 13 fields, saw 14\\n'\n",
            "b'Skipping line 1819829: expected 13 fields, saw 14\\n'\n",
            "b'Skipping line 1849619: expected 13 fields, saw 14\\n'\n",
            "b'Skipping line 1940649: expected 13 fields, saw 14\\n'\n",
            "b'Skipping line 1966377: expected 13 fields, saw 14\\n'\n",
            "b'Skipping line 2062125: expected 13 fields, saw 14\\n'\n",
            "b'Skipping line 2105998: expected 13 fields, saw 16\\n'\n",
            "b'Skipping line 2176996: expected 13 fields, saw 14\\n'\n",
            "b'Skipping line 2415458: expected 13 fields, saw 14\\n'\n",
            "b'Skipping line 2850607: expected 13 fields, saw 14\\n'\n",
            "b'Skipping line 3085657: expected 13 fields, saw 14\\n'\n",
            "b'Skipping line 3201163: expected 13 fields, saw 14\\n'\n",
            "b'Skipping line 3836510: expected 13 fields, saw 14\\n'\n",
            "b'Skipping line 3944442: expected 13 fields, saw 14\\n'\n",
            "b'Skipping line 4289662: expected 13 fields, saw 14\\n'\n",
            "b'Skipping line 4331066: expected 13 fields, saw 14\\n'\n",
            "b'Skipping line 4508631: expected 13 fields, saw 15\\nSkipping line 4520438: expected 13 fields, saw 14\\n'\n",
            "b'Skipping line 4785987: expected 13 fields, saw 14\\n'\n",
            "b'Skipping line 5290984: expected 13 fields, saw 14\\n'\n",
            "b'Skipping line 5385119: expected 13 fields, saw 14\\n'\n",
            "b'Skipping line 5454857: expected 13 fields, saw 14\\n'\n",
            "b'Skipping line 5758378: expected 13 fields, saw 14\\n'\n",
            "b'Skipping line 5924336: expected 13 fields, saw 19\\n'\n",
            "b'Skipping line 5967073: expected 13 fields, saw 17\\nSkipping line 6014479: expected 13 fields, saw 14\\n'\n",
            "b'Skipping line 6451220: expected 13 fields, saw 14\\n'\n",
            "b'Skipping line 6491955: expected 13 fields, saw 14\\n'\n",
            "b'Skipping line 7339759: expected 13 fields, saw 16\\n'\n",
            "b'Skipping line 7561264: expected 13 fields, saw 19\\n'\n",
            "b'Skipping line 7616153: expected 13 fields, saw 14\\n'\n",
            "b'Skipping line 7750778: expected 13 fields, saw 14\\n'\n",
            "b'Skipping line 7955483: expected 13 fields, saw 14\\n'\n",
            "b'Skipping line 8000903: expected 13 fields, saw 14\\n'\n",
            "b'Skipping line 8216220: expected 13 fields, saw 14\\n'\n",
            "b'Skipping line 8260633: expected 13 fields, saw 14\\n'\n",
            "b'Skipping line 8564154: expected 13 fields, saw 14\\n'\n",
            "b'Skipping line 9845385: expected 13 fields, saw 14\\n'\n",
            "b'Skipping line 9997720: expected 13 fields, saw 14\\n'\n",
            "b'Skipping line 10098160: expected 13 fields, saw 14\\nSkipping line 10132407: expected 13 fields, saw 14\\n'\n",
            "b'Skipping line 10169033: expected 13 fields, saw 14\\n'\n",
            "b'Skipping line 10230129: expected 13 fields, saw 14\\n'\n",
            "b'Skipping line 10317822: expected 13 fields, saw 15\\n'\n",
            "b'Skipping line 10492572: expected 13 fields, saw 14\\n'\n",
            "b'Skipping line 10588003: expected 13 fields, saw 24\\n'\n",
            "b'Skipping line 10642422: expected 13 fields, saw 14\\nSkipping line 10661553: expected 13 fields, saw 14\\n'\n",
            "b'Skipping line 11151667: expected 13 fields, saw 14\\n'\n",
            "b'Skipping line 11556453: expected 13 fields, saw 14\\n'\n",
            "b'Skipping line 11814032: expected 13 fields, saw 15\\nSkipping line 11831939: expected 13 fields, saw 14\\n'\n",
            "b'Skipping line 11901626: expected 13 fields, saw 18\\n'\n",
            "b'Skipping line 11999539: expected 13 fields, saw 14\\n'\n",
            "b'Skipping line 12124368: expected 13 fields, saw 24\\n'\n",
            "b'Skipping line 13470760: expected 13 fields, saw 27\\n'\n",
            "b'Skipping line 14529071: expected 13 fields, saw 15\\n'\n",
            "b'Skipping line 15049832: expected 13 fields, saw 14\\n'\n",
            "b'Skipping line 15188642: expected 13 fields, saw 14\\n'\n",
            "b'Skipping line 16022359: expected 13 fields, saw 15\\n'\n",
            "b'Skipping line 16539155: expected 13 fields, saw 15\\n'\n",
            "b'Skipping line 17179127: expected 13 fields, saw 24\\n'\n",
            "b'Skipping line 18276062: expected 13 fields, saw 14\\n'\n",
            "b'Skipping line 18715385: expected 13 fields, saw 15\\n'\n",
            "b'Skipping line 19504721: expected 13 fields, saw 17\\n'\n",
            "b'Skipping line 19874551: expected 13 fields, saw 25\\n'\n",
            "b'Skipping line 19929800: expected 13 fields, saw 16\\n'\n",
            "b'Skipping line 21464545: expected 13 fields, saw 14\\n'\n",
            "b'Skipping line 21756759: expected 13 fields, saw 17\\n'\n",
            "b'Skipping line 22064589: expected 13 fields, saw 16\\n'\n",
            "b'Skipping line 22291205: expected 13 fields, saw 14\\n'\n",
            "b'Skipping line 22660011: expected 13 fields, saw 15\\n'\n",
            "b'Skipping line 23545232: expected 13 fields, saw 14\\n'\n",
            "b'Skipping line 25595182: expected 13 fields, saw 14\\n'\n",
            "b'Skipping line 26236786: expected 13 fields, saw 15\\n'\n",
            "b'Skipping line 26700023: expected 13 fields, saw 14\\n'\n",
            "b'Skipping line 27551475: expected 13 fields, saw 14\\n'\n"
          ],
          "name": "stderr"
        },
        {
          "output_type": "execute_result",
          "data": {
            "text/html": [
              "<div>\n",
              "<style scoped>\n",
              "    .dataframe tbody tr th:only-of-type {\n",
              "        vertical-align: middle;\n",
              "    }\n",
              "\n",
              "    .dataframe tbody tr th {\n",
              "        vertical-align: top;\n",
              "    }\n",
              "\n",
              "    .dataframe thead th {\n",
              "        text-align: right;\n",
              "    }\n",
              "</style>\n",
              "<table border=\"1\" class=\"dataframe\">\n",
              "  <thead>\n",
              "    <tr style=\"text-align: right;\">\n",
              "      <th></th>\n",
              "      <th>id</th>\n",
              "      <th>login</th>\n",
              "      <th>type</th>\n",
              "    </tr>\n",
              "  </thead>\n",
              "  <tbody>\n",
              "    <tr>\n",
              "      <th>0</th>\n",
              "      <td>1</td>\n",
              "      <td>tosch</td>\n",
              "      <td>USR</td>\n",
              "    </tr>\n",
              "    <tr>\n",
              "      <th>1</th>\n",
              "      <td>2</td>\n",
              "      <td>jmettraux</td>\n",
              "      <td>USR</td>\n",
              "    </tr>\n",
              "    <tr>\n",
              "      <th>2</th>\n",
              "      <td>3</td>\n",
              "      <td>SMGNMSKD</td>\n",
              "      <td>USR</td>\n",
              "    </tr>\n",
              "    <tr>\n",
              "      <th>3</th>\n",
              "      <td>4</td>\n",
              "      <td>kennethkalmer</td>\n",
              "      <td>USR</td>\n",
              "    </tr>\n",
              "    <tr>\n",
              "      <th>4</th>\n",
              "      <td>5</td>\n",
              "      <td>weppos</td>\n",
              "      <td>USR</td>\n",
              "    </tr>\n",
              "  </tbody>\n",
              "</table>\n",
              "</div>"
            ],
            "text/plain": [
              "   id          login type\n",
              "0   1          tosch  USR\n",
              "1   2      jmettraux  USR\n",
              "2   3       SMGNMSKD  USR\n",
              "3   4  kennethkalmer  USR\n",
              "4   5         weppos  USR"
            ]
          },
          "metadata": {
            "tags": []
          },
          "execution_count": 35
        }
      ]
    },
    {
      "cell_type": "code",
      "metadata": {
        "id": "dygoW_JBFoze",
        "colab_type": "code",
        "colab": {}
      },
      "source": [
        "#we are not considering the ORG (organization accounts) and the ones labeled with 0 (innactive accounts)\n",
        "df_ORG = df_u.loc[ df_u['type']=='ORG']\n",
        "df_zero= df_u.loc[ df_u['type']=='0']\n",
        "\n",
        "# we don't need this columns\n",
        "del df_ORG['login']\n",
        "del df_ORG['type']\n",
        "del df_zero['login']\n",
        "del df_zero['type']\n"
      ],
      "execution_count": 0,
      "outputs": []
    },
    {
      "cell_type": "markdown",
      "metadata": {
        "id": "hh_rv6DWyJ97",
        "colab_type": "text"
      },
      "source": [
        "### Create new dataset, trimmed"
      ]
    },
    {
      "cell_type": "code",
      "metadata": {
        "id": "kHEFKIBBsxCX",
        "colab_type": "code",
        "colab": {}
      },
      "source": [
        "# 1 - delete nodes from the 'user_id' col\n",
        "df_trim = df_f[~df_f.user_id.isin(df_remove.user_id)]"
      ],
      "execution_count": 0,
      "outputs": []
    },
    {
      "cell_type": "code",
      "metadata": {
        "id": "akwUrR7xsVcI",
        "colab_type": "code",
        "colab": {}
      },
      "source": [
        "# 2 - delete nodes from the 'follower_id' col\n",
        "df_trim = df_trim[~df_trim.follower_id.isin(df_remove.user_id)]"
      ],
      "execution_count": 0,
      "outputs": []
    },
    {
      "cell_type": "code",
      "metadata": {
        "id": "3A4spRQ3Fqst",
        "colab_type": "code",
        "colab": {}
      },
      "source": [
        "# 3 - delete nodes that are ORG type\n",
        "df_trim = df_trim[~df_trim.user_id.isin(df_ORG.id)]\n",
        "df_trim = df_trim[~df_trim.follower_id.isin(df_ORG.id)]"
      ],
      "execution_count": 0,
      "outputs": []
    },
    {
      "cell_type": "code",
      "metadata": {
        "id": "IiHu7H2PFwuP",
        "colab_type": "code",
        "colab": {}
      },
      "source": [
        "# delete nodes that are ORG type\n",
        "df_trim = df_trim[~df_trim.user_id.isin(df_zero.id)]\n",
        "df_trim = df_trim[~df_trim.follower_id.isin(df_zero.id)]\n"
      ],
      "execution_count": 0,
      "outputs": []
    },
    {
      "cell_type": "code",
      "metadata": {
        "id": "lX0fq-5Brf2F",
        "colab_type": "code",
        "colab": {
          "base_uri": "https://localhost:8080/",
          "height": 35
        },
        "outputId": "d8f28287-ea92-461e-cf46-4abd5a88a3f8"
      },
      "source": [
        "#757,571 nodes\n",
        "len(df_trim['user_id'].unique())"
      ],
      "execution_count": 41,
      "outputs": [
        {
          "output_type": "execute_result",
          "data": {
            "text/plain": [
              "757571"
            ]
          },
          "metadata": {
            "tags": []
          },
          "execution_count": 41
        }
      ]
    },
    {
      "cell_type": "code",
      "metadata": {
        "id": "25mChlhfymMG",
        "colab_type": "code",
        "colab": {
          "base_uri": "https://localhost:8080/",
          "height": 35
        },
        "outputId": "8bccb542-0855-4e7f-cdda-96443dff81b2"
      },
      "source": [
        "#16,546,310 edges\n",
        "df_trim.shape[0]"
      ],
      "execution_count": 42,
      "outputs": [
        {
          "output_type": "execute_result",
          "data": {
            "text/plain": [
              "16546310"
            ]
          },
          "metadata": {
            "tags": []
          },
          "execution_count": 42
        }
      ]
    },
    {
      "cell_type": "code",
      "metadata": {
        "id": "llW60PqCymIo",
        "colab_type": "code",
        "colab": {
          "base_uri": "https://localhost:8080/",
          "height": 206
        },
        "outputId": "705313eb-4c7e-44e4-d3ee-5bf55db4cd4f"
      },
      "source": [
        "df_trim.head()"
      ],
      "execution_count": 43,
      "outputs": [
        {
          "output_type": "execute_result",
          "data": {
            "text/html": [
              "<div>\n",
              "<style scoped>\n",
              "    .dataframe tbody tr th:only-of-type {\n",
              "        vertical-align: middle;\n",
              "    }\n",
              "\n",
              "    .dataframe tbody tr th {\n",
              "        vertical-align: top;\n",
              "    }\n",
              "\n",
              "    .dataframe thead th {\n",
              "        text-align: right;\n",
              "    }\n",
              "</style>\n",
              "<table border=\"1\" class=\"dataframe\">\n",
              "  <thead>\n",
              "    <tr style=\"text-align: right;\">\n",
              "      <th></th>\n",
              "      <th>follower_id</th>\n",
              "      <th>user_id</th>\n",
              "    </tr>\n",
              "  </thead>\n",
              "  <tbody>\n",
              "    <tr>\n",
              "      <th>0</th>\n",
              "      <td>1</td>\n",
              "      <td>2</td>\n",
              "    </tr>\n",
              "    <tr>\n",
              "      <th>1</th>\n",
              "      <td>1</td>\n",
              "      <td>4</td>\n",
              "    </tr>\n",
              "    <tr>\n",
              "      <th>2</th>\n",
              "      <td>1</td>\n",
              "      <td>17896</td>\n",
              "    </tr>\n",
              "    <tr>\n",
              "      <th>3</th>\n",
              "      <td>1</td>\n",
              "      <td>21523</td>\n",
              "    </tr>\n",
              "    <tr>\n",
              "      <th>4</th>\n",
              "      <td>1</td>\n",
              "      <td>29121</td>\n",
              "    </tr>\n",
              "  </tbody>\n",
              "</table>\n",
              "</div>"
            ],
            "text/plain": [
              "   follower_id  user_id\n",
              "0            1        2\n",
              "1            1        4\n",
              "2            1    17896\n",
              "3            1    21523\n",
              "4            1    29121"
            ]
          },
          "metadata": {
            "tags": []
          },
          "execution_count": 43
        }
      ]
    },
    {
      "cell_type": "code",
      "metadata": {
        "id": "qD-WxJTnHGn2",
        "colab_type": "code",
        "colab": {
          "base_uri": "https://localhost:8080/",
          "height": 362
        },
        "outputId": "7c6e1b08-1baa-484b-f99d-c3b7aa61a14d"
      },
      "source": [
        "# Get a sorted list of the objects and their sizes\n",
        "sorted([(x, sys.getsizeof(globals().get(x))) for x in dir() if not x.startswith('_') and x not in sys.modules and x not in ipython_vars], key=lambda x: x[1], reverse=True)"
      ],
      "execution_count": 44,
      "outputs": [
        {
          "output_type": "execute_result",
          "data": {
            "text/plain": [
              "[('df_u', 3968749608),\n",
              " ('df_f', 476955960),\n",
              " ('df_trim', 397111464),\n",
              " ('df_remove', 73731640),\n",
              " ('df_ORG', 18589624),\n",
              " ('in_deg_freq', 73824),\n",
              " ('out_deg_freq', 73824),\n",
              " ('InteractiveShell', 1056),\n",
              " ('degree_freq', 136),\n",
              " ('df_zero', 136),\n",
              " ('get_top_keys', 136),\n",
              " ('get_top_values', 136),\n",
              " ('cols_to_keep', 88),\n",
              " ('drive', 80),\n",
              " ('np', 80),\n",
              " ('nx', 80),\n",
              " ('pd', 80),\n",
              " ('plt', 80),\n",
              " ('sparse', 80)]"
            ]
          },
          "metadata": {
            "tags": []
          },
          "execution_count": 44
        }
      ]
    },
    {
      "cell_type": "code",
      "metadata": {
        "id": "WP9Ukr2kHGNB",
        "colab_type": "code",
        "colab": {}
      },
      "source": [
        "# delete variables that are not needed, to release memory\n",
        "#del df_f\n",
        "#del df_remove\n",
        "del df_ORG\n",
        "del df_zero"
      ],
      "execution_count": 0,
      "outputs": []
    },
    {
      "cell_type": "code",
      "metadata": {
        "id": "LW8tZhhMHOon",
        "colab_type": "code",
        "colab": {
          "base_uri": "https://localhost:8080/",
          "height": 35
        },
        "outputId": "36233425-54bb-4bf6-bf21-ade64f64f6a0"
      },
      "source": [
        "#use the Garbage collect utility\n",
        "gc.collect()\n",
        "gc.collect()"
      ],
      "execution_count": 47,
      "outputs": [
        {
          "output_type": "execute_result",
          "data": {
            "text/plain": [
              "0"
            ]
          },
          "metadata": {
            "tags": []
          },
          "execution_count": 47
        },
        {
          "output_type": "execute_result",
          "data": {
            "text/plain": [
              "0"
            ]
          },
          "metadata": {
            "tags": []
          },
          "execution_count": 47
        }
      ]
    },
    {
      "cell_type": "markdown",
      "metadata": {
        "id": "2lUffN1Y0sv0",
        "colab_type": "text"
      },
      "source": [
        "### User login substitution"
      ]
    },
    {
      "cell_type": "code",
      "metadata": {
        "id": "E8Hjn8sRymFD",
        "colab_type": "code",
        "colab": {}
      },
      "source": [
        "# Make a copy of the all users dataframe\n",
        "# but, only keep the users and logins that are gonna be loaded in the network\n",
        "df_user_trimm = df_u[ df_u.id.isin(df_trim.user_id) ]"
      ],
      "execution_count": 0,
      "outputs": []
    },
    {
      "cell_type": "code",
      "metadata": {
        "id": "Bchuak7iyln-",
        "colab_type": "code",
        "colab": {
          "base_uri": "https://localhost:8080/",
          "height": 130
        },
        "outputId": "846aa60e-1682-4d3f-f146-76e890f8a692"
      },
      "source": [
        "# users: 757,545\n",
        "df_user_trimm.shape[0]\n",
        "del df_user_trimm['type']\n",
        "df_user_trimm.head(2)"
      ],
      "execution_count": 49,
      "outputs": [
        {
          "output_type": "execute_result",
          "data": {
            "text/plain": [
              "757545"
            ]
          },
          "metadata": {
            "tags": []
          },
          "execution_count": 49
        },
        {
          "output_type": "execute_result",
          "data": {
            "text/html": [
              "<div>\n",
              "<style scoped>\n",
              "    .dataframe tbody tr th:only-of-type {\n",
              "        vertical-align: middle;\n",
              "    }\n",
              "\n",
              "    .dataframe tbody tr th {\n",
              "        vertical-align: top;\n",
              "    }\n",
              "\n",
              "    .dataframe thead th {\n",
              "        text-align: right;\n",
              "    }\n",
              "</style>\n",
              "<table border=\"1\" class=\"dataframe\">\n",
              "  <thead>\n",
              "    <tr style=\"text-align: right;\">\n",
              "      <th></th>\n",
              "      <th>id</th>\n",
              "      <th>login</th>\n",
              "    </tr>\n",
              "  </thead>\n",
              "  <tbody>\n",
              "    <tr>\n",
              "      <th>0</th>\n",
              "      <td>1</td>\n",
              "      <td>tosch</td>\n",
              "    </tr>\n",
              "    <tr>\n",
              "      <th>1</th>\n",
              "      <td>2</td>\n",
              "      <td>jmettraux</td>\n",
              "    </tr>\n",
              "  </tbody>\n",
              "</table>\n",
              "</div>"
            ],
            "text/plain": [
              "   id      login\n",
              "0   1      tosch\n",
              "1   2  jmettraux"
            ]
          },
          "metadata": {
            "tags": []
          },
          "execution_count": 49
        }
      ]
    },
    {
      "cell_type": "code",
      "metadata": {
        "id": "PylR6s940zEI",
        "colab_type": "code",
        "colab": {}
      },
      "source": [
        "# Create a dictionary of all user_id and login name\n",
        "\n",
        "#my_name_dict = dict(df_user_trimm.to_dict('split')['data'])\n",
        "#len(my_name_dict)"
      ],
      "execution_count": 0,
      "outputs": []
    },
    {
      "cell_type": "code",
      "metadata": {
        "id": "V-uypbw10zBm",
        "colab_type": "code",
        "colab": {}
      },
      "source": [
        "# Create a new dataframe, where we will do the id --> login substitutio\n",
        "\n",
        "#df_trim_follower = df_trim.replace({\"follower_id\": my_name_dict})"
      ],
      "execution_count": 0,
      "outputs": []
    },
    {
      "cell_type": "code",
      "metadata": {
        "id": "WMlbdGlY0y_o",
        "colab_type": "code",
        "colab": {}
      },
      "source": [
        "#df_trim_follower.head()"
      ],
      "execution_count": 0,
      "outputs": []
    },
    {
      "cell_type": "code",
      "metadata": {
        "id": "Z4R4X9LT0y8W",
        "colab_type": "code",
        "colab": {}
      },
      "source": [
        "#substitute the other column\n",
        "\n",
        "#df_trim_follower = df_trim_follower.replace({\"user_id\": my_name_dict})\n",
        "#df_trim_follower.head()"
      ],
      "execution_count": 0,
      "outputs": []
    },
    {
      "cell_type": "code",
      "metadata": {
        "id": "Z9kdU2Ye7Cym",
        "colab_type": "code",
        "outputId": "f6b641b1-d4f7-49b2-f4a1-1df2d2251f4f",
        "colab": {
          "base_uri": "https://localhost:8080/",
          "height": 290
        }
      },
      "source": [
        "\n",
        "# Get a sorted list of the objects and their sizes\n",
        "sorted([(x, sys.getsizeof(globals().get(x))) for x in dir() if not x.startswith('_') and x not in sys.modules and x not in ipython_vars], key=lambda x: x[1], reverse=True)"
      ],
      "execution_count": 57,
      "outputs": [
        {
          "output_type": "execute_result",
          "data": {
            "text/plain": [
              "[('df_trim', 397111464),\n",
              " ('df_user_trimm', 62103104),\n",
              " ('in_deg_freq', 73824),\n",
              " ('out_deg_freq', 73824),\n",
              " ('InteractiveShell', 1056),\n",
              " ('degree_freq', 136),\n",
              " ('get_top_keys', 136),\n",
              " ('get_top_values', 136),\n",
              " ('cols_to_keep', 88),\n",
              " ('drive', 80),\n",
              " ('np', 80),\n",
              " ('nx', 80),\n",
              " ('pd', 80),\n",
              " ('plt', 80),\n",
              " ('sparse', 80)]"
            ]
          },
          "metadata": {
            "tags": []
          },
          "execution_count": 57
        }
      ]
    },
    {
      "cell_type": "code",
      "metadata": {
        "id": "eaxkfZuR7EIG",
        "colab_type": "code",
        "colab": {}
      },
      "source": [
        "#del my_name_dict\n",
        "del df_u\n",
        "#del df_user_trimm\n",
        "del df_remove\n",
        "#del df_trim\n",
        "del df_f"
      ],
      "execution_count": 0,
      "outputs": []
    },
    {
      "cell_type": "code",
      "metadata": {
        "id": "AC2aMYCy7D1J",
        "colab_type": "code",
        "colab": {
          "base_uri": "https://localhost:8080/",
          "height": 35
        },
        "outputId": "7880296b-24e1-460a-b563-5bc561129412"
      },
      "source": [
        "gc.collect()\n",
        "gc.collect()"
      ],
      "execution_count": 59,
      "outputs": [
        {
          "output_type": "execute_result",
          "data": {
            "text/plain": [
              "0"
            ]
          },
          "metadata": {
            "tags": []
          },
          "execution_count": 59
        },
        {
          "output_type": "execute_result",
          "data": {
            "text/plain": [
              "0"
            ]
          },
          "metadata": {
            "tags": []
          },
          "execution_count": 59
        }
      ]
    },
    {
      "cell_type": "markdown",
      "metadata": {
        "id": "tn7vQmGg63tW",
        "colab_type": "text"
      },
      "source": [
        "### Create **partial** directed graph"
      ]
    },
    {
      "cell_type": "code",
      "metadata": {
        "id": "Zwo6nV5S63X-",
        "colab_type": "code",
        "colab": {}
      },
      "source": [
        "#create empty directed Graph\n",
        "followers_graph = nx.DiGraph()"
      ],
      "execution_count": 0,
      "outputs": []
    },
    {
      "cell_type": "code",
      "metadata": {
        "id": "UeY8Srgf63LM",
        "colab_type": "code",
        "colab": {}
      },
      "source": [
        "#add edges to the Graph\n",
        "followers_graph.add_edges_from(df_trim.values.tolist())"
      ],
      "execution_count": 0,
      "outputs": []
    },
    {
      "cell_type": "markdown",
      "metadata": {
        "id": "7j8CWa-RVyMm",
        "colab_type": "text"
      },
      "source": [
        "New trimmed network:\n",
        "<br> 760,467 nodes\n",
        "<br> 16,546,310 edges"
      ]
    },
    {
      "cell_type": "code",
      "metadata": {
        "id": "djgUBvhj0y5V",
        "colab_type": "code",
        "colab": {
          "base_uri": "https://localhost:8080/",
          "height": 126
        },
        "outputId": "1b08604b-cebe-4391-9fff-62b455dc8ccb"
      },
      "source": [
        "print(nx.info(followers_graph))"
      ],
      "execution_count": 62,
      "outputs": [
        {
          "output_type": "stream",
          "text": [
            "Name: \n",
            "Type: DiGraph\n",
            "Number of nodes: 760467\n",
            "Number of edges: 16546310\n",
            "Average in degree:  21.7581\n",
            "Average out degree:  21.7581\n"
          ],
          "name": "stdout"
        }
      ]
    },
    {
      "cell_type": "markdown",
      "metadata": {
        "id": "kzSPL72e9gwc",
        "colab_type": "text"
      },
      "source": [
        "### Calculate page rank"
      ]
    },
    {
      "cell_type": "code",
      "metadata": {
        "id": "yEUsLndz0yyW",
        "colab_type": "code",
        "colab": {}
      },
      "source": [
        "page_rank = nx.pagerank(followers_graph, max_iter=60)"
      ],
      "execution_count": 0,
      "outputs": []
    },
    {
      "cell_type": "code",
      "metadata": {
        "id": "mR6FP7Tv9e3n",
        "colab_type": "code",
        "colab": {}
      },
      "source": [
        "# calculate top users with highest page rank values\n",
        "top_page_rank = get_top_values(page_rank, 1000)"
      ],
      "execution_count": 0,
      "outputs": []
    },
    {
      "cell_type": "code",
      "metadata": {
        "id": "E1ZVrWLFW-gg",
        "colab_type": "code",
        "colab": {}
      },
      "source": [
        "#use the user_id as index\n",
        "user_names = df_user_trimm.set_index('id')['login']\n",
        "\n",
        "df_top_page_rank = pd.DataFrame.from_dict(data=top_page_rank, orient='index',columns=['Page_rank'])\n",
        "df_top_page_rank['login'] = np.array(list(map(user_names.get,top_page_rank.keys())))"
      ],
      "execution_count": 0,
      "outputs": []
    },
    {
      "cell_type": "code",
      "metadata": {
        "id": "rr6aF7ufXo1_",
        "colab_type": "code",
        "colab": {
          "base_uri": "https://localhost:8080/",
          "height": 520
        },
        "outputId": "20cb616b-a108-4d29-e68f-e0e647668dbc"
      },
      "source": [
        "df_top_page_rank = df_top_page_rank.reset_index()\n",
        "df_top_page_rank.head(15)"
      ],
      "execution_count": 88,
      "outputs": [
        {
          "output_type": "execute_result",
          "data": {
            "text/html": [
              "<div>\n",
              "<style scoped>\n",
              "    .dataframe tbody tr th:only-of-type {\n",
              "        vertical-align: middle;\n",
              "    }\n",
              "\n",
              "    .dataframe tbody tr th {\n",
              "        vertical-align: top;\n",
              "    }\n",
              "\n",
              "    .dataframe thead th {\n",
              "        text-align: right;\n",
              "    }\n",
              "</style>\n",
              "<table border=\"1\" class=\"dataframe\">\n",
              "  <thead>\n",
              "    <tr style=\"text-align: right;\">\n",
              "      <th></th>\n",
              "      <th>index</th>\n",
              "      <th>Page_rank</th>\n",
              "      <th>login</th>\n",
              "    </tr>\n",
              "  </thead>\n",
              "  <tbody>\n",
              "    <tr>\n",
              "      <th>0</th>\n",
              "      <td>5203</td>\n",
              "      <td>0.008165</td>\n",
              "      <td>torvalds</td>\n",
              "    </tr>\n",
              "    <tr>\n",
              "      <th>1</th>\n",
              "      <td>896</td>\n",
              "      <td>0.002421</td>\n",
              "      <td>JakeWharton</td>\n",
              "    </tr>\n",
              "    <tr>\n",
              "      <th>2</th>\n",
              "      <td>376498</td>\n",
              "      <td>0.002159</td>\n",
              "      <td>Tj</td>\n",
              "    </tr>\n",
              "    <tr>\n",
              "      <th>3</th>\n",
              "      <td>9236</td>\n",
              "      <td>0.001743</td>\n",
              "      <td>mojombo</td>\n",
              "    </tr>\n",
              "    <tr>\n",
              "      <th>4</th>\n",
              "      <td>417948</td>\n",
              "      <td>0.001526</td>\n",
              "      <td>gaearon</td>\n",
              "    </tr>\n",
              "    <tr>\n",
              "      <th>5</th>\n",
              "      <td>1779</td>\n",
              "      <td>0.001435</td>\n",
              "      <td>paulirish</td>\n",
              "    </tr>\n",
              "    <tr>\n",
              "      <th>6</th>\n",
              "      <td>6240</td>\n",
              "      <td>0.001394</td>\n",
              "      <td>addyosmani</td>\n",
              "    </tr>\n",
              "    <tr>\n",
              "      <th>7</th>\n",
              "      <td>616741</td>\n",
              "      <td>0.001387</td>\n",
              "      <td>ruanyf</td>\n",
              "    </tr>\n",
              "    <tr>\n",
              "      <th>8</th>\n",
              "      <td>18556</td>\n",
              "      <td>0.001174</td>\n",
              "      <td>yyx990803</td>\n",
              "    </tr>\n",
              "    <tr>\n",
              "      <th>9</th>\n",
              "      <td>3871</td>\n",
              "      <td>0.001165</td>\n",
              "      <td>sindresorhus</td>\n",
              "    </tr>\n",
              "    <tr>\n",
              "      <th>10</th>\n",
              "      <td>1570</td>\n",
              "      <td>0.001080</td>\n",
              "      <td>defunkt</td>\n",
              "    </tr>\n",
              "    <tr>\n",
              "      <th>11</th>\n",
              "      <td>796</td>\n",
              "      <td>0.000985</td>\n",
              "      <td>kennethreitz</td>\n",
              "    </tr>\n",
              "    <tr>\n",
              "      <th>12</th>\n",
              "      <td>13330706</td>\n",
              "      <td>0.000823</td>\n",
              "      <td>angusshire</td>\n",
              "    </tr>\n",
              "    <tr>\n",
              "      <th>13</th>\n",
              "      <td>1736</td>\n",
              "      <td>0.000813</td>\n",
              "      <td>douglascrockford</td>\n",
              "    </tr>\n",
              "    <tr>\n",
              "      <th>14</th>\n",
              "      <td>13009</td>\n",
              "      <td>0.000799</td>\n",
              "      <td>mbostock</td>\n",
              "    </tr>\n",
              "  </tbody>\n",
              "</table>\n",
              "</div>"
            ],
            "text/plain": [
              "       index  Page_rank             login\n",
              "0       5203   0.008165          torvalds\n",
              "1        896   0.002421       JakeWharton\n",
              "2     376498   0.002159                Tj\n",
              "3       9236   0.001743           mojombo\n",
              "4     417948   0.001526           gaearon\n",
              "5       1779   0.001435         paulirish\n",
              "6       6240   0.001394        addyosmani\n",
              "7     616741   0.001387            ruanyf\n",
              "8      18556   0.001174         yyx990803\n",
              "9       3871   0.001165      sindresorhus\n",
              "10      1570   0.001080           defunkt\n",
              "11       796   0.000985      kennethreitz\n",
              "12  13330706   0.000823        angusshire\n",
              "13      1736   0.000813  douglascrockford\n",
              "14     13009   0.000799          mbostock"
            ]
          },
          "metadata": {
            "tags": []
          },
          "execution_count": 88
        }
      ]
    },
    {
      "cell_type": "code",
      "metadata": {
        "id": "zQySDEdMaYrN",
        "colab_type": "code",
        "colab": {}
      },
      "source": [
        "#save results as CSV\n",
        "df_top_page_rank.to_csv('./results/1000_page_rank.csv')"
      ],
      "execution_count": 0,
      "outputs": []
    },
    {
      "cell_type": "markdown",
      "metadata": {
        "id": "Y_rsruuR-FaT",
        "colab_type": "text"
      },
      "source": [
        "### Calculate HITS"
      ]
    },
    {
      "cell_type": "code",
      "metadata": {
        "id": "CRVwzMBe9e1K",
        "colab_type": "code",
        "colab": {}
      },
      "source": [
        "#calculates Hubs and Authorities, returns two dictionaries\n",
        "hubs, auth = nx.hits(followers_graph, max_iter=60)"
      ],
      "execution_count": 0,
      "outputs": []
    },
    {
      "cell_type": "code",
      "metadata": {
        "id": "btzN7NR1-NHN",
        "colab_type": "code",
        "colab": {}
      },
      "source": [
        "top_auths = get_top_values(auth, 1000)"
      ],
      "execution_count": 0,
      "outputs": []
    },
    {
      "cell_type": "code",
      "metadata": {
        "id": "Ul2kBRB1aGjA",
        "colab_type": "code",
        "colab": {
          "base_uri": "https://localhost:8080/",
          "height": 520
        },
        "outputId": "d466659c-24f4-4e29-bee4-35851f2d9e22"
      },
      "source": [
        "df_top_auths = pd.DataFrame.from_dict(data=top_auths, orient='index',columns=['auth'])\n",
        "df_top_auths['login'] = np.array(list(map(user_names.get,top_auths.keys())))\n",
        "df_top_auths = df_top_auths.reset_index()\n",
        "df_top_auths.head(15)"
      ],
      "execution_count": 109,
      "outputs": [
        {
          "output_type": "execute_result",
          "data": {
            "text/html": [
              "<div>\n",
              "<style scoped>\n",
              "    .dataframe tbody tr th:only-of-type {\n",
              "        vertical-align: middle;\n",
              "    }\n",
              "\n",
              "    .dataframe tbody tr th {\n",
              "        vertical-align: top;\n",
              "    }\n",
              "\n",
              "    .dataframe thead th {\n",
              "        text-align: right;\n",
              "    }\n",
              "</style>\n",
              "<table border=\"1\" class=\"dataframe\">\n",
              "  <thead>\n",
              "    <tr style=\"text-align: right;\">\n",
              "      <th></th>\n",
              "      <th>index</th>\n",
              "      <th>auth</th>\n",
              "      <th>login</th>\n",
              "    </tr>\n",
              "  </thead>\n",
              "  <tbody>\n",
              "    <tr>\n",
              "      <th>0</th>\n",
              "      <td>5203</td>\n",
              "      <td>0.000044</td>\n",
              "      <td>torvalds</td>\n",
              "    </tr>\n",
              "    <tr>\n",
              "      <th>1</th>\n",
              "      <td>376498</td>\n",
              "      <td>0.000043</td>\n",
              "      <td>Tj</td>\n",
              "    </tr>\n",
              "    <tr>\n",
              "      <th>2</th>\n",
              "      <td>6240</td>\n",
              "      <td>0.000037</td>\n",
              "      <td>addyosmani</td>\n",
              "    </tr>\n",
              "    <tr>\n",
              "      <th>3</th>\n",
              "      <td>3871</td>\n",
              "      <td>0.000037</td>\n",
              "      <td>sindresorhus</td>\n",
              "    </tr>\n",
              "    <tr>\n",
              "      <th>4</th>\n",
              "      <td>1779</td>\n",
              "      <td>0.000035</td>\n",
              "      <td>paulirish</td>\n",
              "    </tr>\n",
              "    <tr>\n",
              "      <th>5</th>\n",
              "      <td>18556</td>\n",
              "      <td>0.000031</td>\n",
              "      <td>yyx990803</td>\n",
              "    </tr>\n",
              "    <tr>\n",
              "      <th>6</th>\n",
              "      <td>417948</td>\n",
              "      <td>0.000029</td>\n",
              "      <td>gaearon</td>\n",
              "    </tr>\n",
              "    <tr>\n",
              "      <th>7</th>\n",
              "      <td>1570</td>\n",
              "      <td>0.000028</td>\n",
              "      <td>defunkt</td>\n",
              "    </tr>\n",
              "    <tr>\n",
              "      <th>8</th>\n",
              "      <td>1199</td>\n",
              "      <td>0.000028</td>\n",
              "      <td>substack</td>\n",
              "    </tr>\n",
              "    <tr>\n",
              "      <th>9</th>\n",
              "      <td>796</td>\n",
              "      <td>0.000027</td>\n",
              "      <td>kennethreitz</td>\n",
              "    </tr>\n",
              "    <tr>\n",
              "      <th>10</th>\n",
              "      <td>9236</td>\n",
              "      <td>0.000026</td>\n",
              "      <td>mojombo</td>\n",
              "    </tr>\n",
              "    <tr>\n",
              "      <th>11</th>\n",
              "      <td>24452</td>\n",
              "      <td>0.000025</td>\n",
              "      <td>jeresig</td>\n",
              "    </tr>\n",
              "    <tr>\n",
              "      <th>12</th>\n",
              "      <td>896</td>\n",
              "      <td>0.000025</td>\n",
              "      <td>JakeWharton</td>\n",
              "    </tr>\n",
              "    <tr>\n",
              "      <th>13</th>\n",
              "      <td>81423</td>\n",
              "      <td>0.000024</td>\n",
              "      <td>mdo</td>\n",
              "    </tr>\n",
              "    <tr>\n",
              "      <th>14</th>\n",
              "      <td>1736</td>\n",
              "      <td>0.000024</td>\n",
              "      <td>douglascrockford</td>\n",
              "    </tr>\n",
              "  </tbody>\n",
              "</table>\n",
              "</div>"
            ],
            "text/plain": [
              "     index      auth             login\n",
              "0     5203  0.000044          torvalds\n",
              "1   376498  0.000043                Tj\n",
              "2     6240  0.000037        addyosmani\n",
              "3     3871  0.000037      sindresorhus\n",
              "4     1779  0.000035         paulirish\n",
              "5    18556  0.000031         yyx990803\n",
              "6   417948  0.000029           gaearon\n",
              "7     1570  0.000028           defunkt\n",
              "8     1199  0.000028          substack\n",
              "9      796  0.000027      kennethreitz\n",
              "10    9236  0.000026           mojombo\n",
              "11   24452  0.000025           jeresig\n",
              "12     896  0.000025       JakeWharton\n",
              "13   81423  0.000024               mdo\n",
              "14    1736  0.000024  douglascrockford"
            ]
          },
          "metadata": {
            "tags": []
          },
          "execution_count": 109
        }
      ]
    },
    {
      "cell_type": "code",
      "metadata": {
        "id": "yVn7Iblya8cO",
        "colab_type": "code",
        "colab": {}
      },
      "source": [
        "#save results as CSV\n",
        "df_top_auths.to_csv('./results/1000_auths_rank.csv')"
      ],
      "execution_count": 0,
      "outputs": []
    },
    {
      "cell_type": "markdown",
      "metadata": {
        "id": "Re5kt399_EOT",
        "colab_type": "text"
      },
      "source": [
        "Top hubs"
      ]
    },
    {
      "cell_type": "code",
      "metadata": {
        "id": "Z2gWc5A_9exc",
        "colab_type": "code",
        "colab": {
          "base_uri": "https://localhost:8080/",
          "height": 206
        },
        "outputId": "e5883d0f-412c-4d8d-b123-3f81c06507d8"
      },
      "source": [
        "top_hubs = get_top_values(hubs, 1000)\n",
        "\n",
        "df_top_hubs = pd.DataFrame.from_dict(data=top_hubs, orient='index',columns=['hub'])\n",
        "df_top_hubs['login'] = np.array(list(map(user_names.get,top_hubs.keys())))\n",
        "df_top_hubs = df_top_hubs.reset_index()\n",
        "df_top_hubs.head()\n"
      ],
      "execution_count": 110,
      "outputs": [
        {
          "output_type": "execute_result",
          "data": {
            "text/html": [
              "<div>\n",
              "<style scoped>\n",
              "    .dataframe tbody tr th:only-of-type {\n",
              "        vertical-align: middle;\n",
              "    }\n",
              "\n",
              "    .dataframe tbody tr th {\n",
              "        vertical-align: top;\n",
              "    }\n",
              "\n",
              "    .dataframe thead th {\n",
              "        text-align: right;\n",
              "    }\n",
              "</style>\n",
              "<table border=\"1\" class=\"dataframe\">\n",
              "  <thead>\n",
              "    <tr style=\"text-align: right;\">\n",
              "      <th></th>\n",
              "      <th>index</th>\n",
              "      <th>hub</th>\n",
              "      <th>login</th>\n",
              "    </tr>\n",
              "  </thead>\n",
              "  <tbody>\n",
              "    <tr>\n",
              "      <th>0</th>\n",
              "      <td>13330706</td>\n",
              "      <td>0.009984</td>\n",
              "      <td>angusshire</td>\n",
              "    </tr>\n",
              "    <tr>\n",
              "      <th>1</th>\n",
              "      <td>5956845</td>\n",
              "      <td>0.008138</td>\n",
              "      <td>4148</td>\n",
              "    </tr>\n",
              "    <tr>\n",
              "      <th>2</th>\n",
              "      <td>6295826</td>\n",
              "      <td>0.005918</td>\n",
              "      <td>ternsip</td>\n",
              "    </tr>\n",
              "    <tr>\n",
              "      <th>3</th>\n",
              "      <td>1640412</td>\n",
              "      <td>0.005483</td>\n",
              "      <td>cusspvz</td>\n",
              "    </tr>\n",
              "    <tr>\n",
              "      <th>4</th>\n",
              "      <td>33579752</td>\n",
              "      <td>0.005378</td>\n",
              "      <td>dalinhuang99</td>\n",
              "    </tr>\n",
              "  </tbody>\n",
              "</table>\n",
              "</div>"
            ],
            "text/plain": [
              "      index       hub         login\n",
              "0  13330706  0.009984    angusshire\n",
              "1   5956845  0.008138          4148\n",
              "2   6295826  0.005918       ternsip\n",
              "3   1640412  0.005483       cusspvz\n",
              "4  33579752  0.005378  dalinhuang99"
            ]
          },
          "metadata": {
            "tags": []
          },
          "execution_count": 110
        }
      ]
    },
    {
      "cell_type": "code",
      "metadata": {
        "id": "Gd0ntvBKdAQM",
        "colab_type": "code",
        "colab": {}
      },
      "source": [
        "#save results as CSV\n",
        "df_top_hubs.to_csv('./results/1000_hubs_rank.csv')"
      ],
      "execution_count": 0,
      "outputs": []
    },
    {
      "cell_type": "markdown",
      "metadata": {
        "id": "rNc3CDNXAwFT",
        "colab_type": "text"
      },
      "source": [
        "## Degree centrality"
      ]
    },
    {
      "cell_type": "code",
      "metadata": {
        "id": "gqC_-1MI9euD",
        "colab_type": "code",
        "colab": {}
      },
      "source": [
        "#calculates degree centrality, returns a dictionary\n",
        "deg_centr = nx.degree_centrality(followers_graph)"
      ],
      "execution_count": 0,
      "outputs": []
    },
    {
      "cell_type": "code",
      "metadata": {
        "id": "XIWrkmOzBQnW",
        "colab_type": "code",
        "colab": {}
      },
      "source": [
        "top_deg_centr = get_top_values(deg_centr, 1000)"
      ],
      "execution_count": 0,
      "outputs": []
    },
    {
      "cell_type": "code",
      "metadata": {
        "id": "ZSgkhlKBccx9",
        "colab_type": "code",
        "colab": {
          "base_uri": "https://localhost:8080/",
          "height": 520
        },
        "outputId": "b427d47d-2016-4680-ec6e-e65fb8fadc8f"
      },
      "source": [
        "df_top_deg_centr = pd.DataFrame.from_dict(data=top_deg_centr, orient='index',columns=['cent_deg'])\n",
        "df_top_deg_centr['login'] = np.array(list(map(user_names.get,top_deg_centr.keys())))\n",
        "df_top_deg_centr = df_top_deg_centr.reset_index()\n",
        "df_top_deg_centr.head(15)"
      ],
      "execution_count": 96,
      "outputs": [
        {
          "output_type": "execute_result",
          "data": {
            "text/html": [
              "<div>\n",
              "<style scoped>\n",
              "    .dataframe tbody tr th:only-of-type {\n",
              "        vertical-align: middle;\n",
              "    }\n",
              "\n",
              "    .dataframe tbody tr th {\n",
              "        vertical-align: top;\n",
              "    }\n",
              "\n",
              "    .dataframe thead th {\n",
              "        text-align: right;\n",
              "    }\n",
              "</style>\n",
              "<table border=\"1\" class=\"dataframe\">\n",
              "  <thead>\n",
              "    <tr style=\"text-align: right;\">\n",
              "      <th></th>\n",
              "      <th>index</th>\n",
              "      <th>cent_deg</th>\n",
              "      <th>login</th>\n",
              "    </tr>\n",
              "  </thead>\n",
              "  <tbody>\n",
              "    <tr>\n",
              "      <th>0</th>\n",
              "      <td>13330706</td>\n",
              "      <td>0.238706</td>\n",
              "      <td>angusshire</td>\n",
              "    </tr>\n",
              "    <tr>\n",
              "      <th>1</th>\n",
              "      <td>5956845</td>\n",
              "      <td>0.177598</td>\n",
              "      <td>4148</td>\n",
              "    </tr>\n",
              "    <tr>\n",
              "      <th>2</th>\n",
              "      <td>1302201</td>\n",
              "      <td>0.152805</td>\n",
              "      <td>KevinHock</td>\n",
              "    </tr>\n",
              "    <tr>\n",
              "      <th>3</th>\n",
              "      <td>1640412</td>\n",
              "      <td>0.147009</td>\n",
              "      <td>cusspvz</td>\n",
              "    </tr>\n",
              "    <tr>\n",
              "      <th>4</th>\n",
              "      <td>33579752</td>\n",
              "      <td>0.146121</td>\n",
              "      <td>dalinhuang99</td>\n",
              "    </tr>\n",
              "    <tr>\n",
              "      <th>5</th>\n",
              "      <td>6295826</td>\n",
              "      <td>0.127144</td>\n",
              "      <td>ternsip</td>\n",
              "    </tr>\n",
              "    <tr>\n",
              "      <th>6</th>\n",
              "      <td>5045042</td>\n",
              "      <td>0.111083</td>\n",
              "      <td>akmoose</td>\n",
              "    </tr>\n",
              "    <tr>\n",
              "      <th>7</th>\n",
              "      <td>3688872</td>\n",
              "      <td>0.105241</td>\n",
              "      <td>MichalPaszkiewicz</td>\n",
              "    </tr>\n",
              "    <tr>\n",
              "      <th>8</th>\n",
              "      <td>3148103</td>\n",
              "      <td>0.090124</td>\n",
              "      <td>alex-cory</td>\n",
              "    </tr>\n",
              "    <tr>\n",
              "      <th>9</th>\n",
              "      <td>10428329</td>\n",
              "      <td>0.087062</td>\n",
              "      <td>popsiclesarecool</td>\n",
              "    </tr>\n",
              "    <tr>\n",
              "      <th>10</th>\n",
              "      <td>39280486</td>\n",
              "      <td>0.077462</td>\n",
              "      <td>nomadbot</td>\n",
              "    </tr>\n",
              "    <tr>\n",
              "      <th>11</th>\n",
              "      <td>5203</td>\n",
              "      <td>0.077141</td>\n",
              "      <td>torvalds</td>\n",
              "    </tr>\n",
              "    <tr>\n",
              "      <th>12</th>\n",
              "      <td>6323375</td>\n",
              "      <td>0.069363</td>\n",
              "      <td>woxly</td>\n",
              "    </tr>\n",
              "    <tr>\n",
              "      <th>13</th>\n",
              "      <td>1968763</td>\n",
              "      <td>0.068839</td>\n",
              "      <td>nfultz</td>\n",
              "    </tr>\n",
              "    <tr>\n",
              "      <th>14</th>\n",
              "      <td>11587542</td>\n",
              "      <td>0.065954</td>\n",
              "      <td>mstraughan86</td>\n",
              "    </tr>\n",
              "  </tbody>\n",
              "</table>\n",
              "</div>"
            ],
            "text/plain": [
              "       index  cent_deg              login\n",
              "0   13330706  0.238706         angusshire\n",
              "1    5956845  0.177598               4148\n",
              "2    1302201  0.152805          KevinHock\n",
              "3    1640412  0.147009            cusspvz\n",
              "4   33579752  0.146121       dalinhuang99\n",
              "5    6295826  0.127144            ternsip\n",
              "6    5045042  0.111083            akmoose\n",
              "7    3688872  0.105241  MichalPaszkiewicz\n",
              "8    3148103  0.090124          alex-cory\n",
              "9   10428329  0.087062   popsiclesarecool\n",
              "10  39280486  0.077462           nomadbot\n",
              "11      5203  0.077141           torvalds\n",
              "12   6323375  0.069363              woxly\n",
              "13   1968763  0.068839             nfultz\n",
              "14  11587542  0.065954       mstraughan86"
            ]
          },
          "metadata": {
            "tags": []
          },
          "execution_count": 96
        }
      ]
    },
    {
      "cell_type": "code",
      "metadata": {
        "id": "6QxVAZxH9eqd",
        "colab_type": "code",
        "colab": {}
      },
      "source": [
        "#save results as CSV\n",
        "df_top_deg_centr.to_csv('./results/1000_deg_centrality.csv')"
      ],
      "execution_count": 0,
      "outputs": []
    },
    {
      "cell_type": "markdown",
      "metadata": {
        "id": "AYGATc0BhUOH",
        "colab_type": "text"
      },
      "source": [
        "## In-degree centrality"
      ]
    },
    {
      "cell_type": "code",
      "metadata": {
        "id": "NrA3M5puhT0W",
        "colab_type": "code",
        "colab": {}
      },
      "source": [
        "#calculates degree centrality, returns a dictionary\n",
        "in_deg_centr = nx.in_degree_centrality(followers_graph)"
      ],
      "execution_count": 0,
      "outputs": []
    },
    {
      "cell_type": "code",
      "metadata": {
        "id": "4vatlnQWhThl",
        "colab_type": "code",
        "colab": {}
      },
      "source": [
        "top_in_deg_centr = get_top_values(in_deg_centr, 1000)"
      ],
      "execution_count": 0,
      "outputs": []
    },
    {
      "cell_type": "code",
      "metadata": {
        "id": "jVYy-M10hoW6",
        "colab_type": "code",
        "colab": {
          "base_uri": "https://localhost:8080/",
          "height": 520
        },
        "outputId": "3362de09-2cef-4aca-c2fb-2c79ef39aac2"
      },
      "source": [
        "df_top_in_deg_centr = pd.DataFrame.from_dict(data=top_in_deg_centr, orient='index',columns=['in_degree_cent'])\n",
        "df_top_in_deg_centr['login'] = np.array(list(map(user_names.get, top_in_deg_centr.keys())))\n",
        "df_top_in_deg_centr = df_top_in_deg_centr.reset_index()\n",
        "df_top_in_deg_centr.head(15)"
      ],
      "execution_count": 102,
      "outputs": [
        {
          "output_type": "execute_result",
          "data": {
            "text/html": [
              "<div>\n",
              "<style scoped>\n",
              "    .dataframe tbody tr th:only-of-type {\n",
              "        vertical-align: middle;\n",
              "    }\n",
              "\n",
              "    .dataframe tbody tr th {\n",
              "        vertical-align: top;\n",
              "    }\n",
              "\n",
              "    .dataframe thead th {\n",
              "        text-align: right;\n",
              "    }\n",
              "</style>\n",
              "<table border=\"1\" class=\"dataframe\">\n",
              "  <thead>\n",
              "    <tr style=\"text-align: right;\">\n",
              "      <th></th>\n",
              "      <th>index</th>\n",
              "      <th>in_degree_cent</th>\n",
              "      <th>login</th>\n",
              "    </tr>\n",
              "  </thead>\n",
              "  <tbody>\n",
              "    <tr>\n",
              "      <th>0</th>\n",
              "      <td>5203</td>\n",
              "      <td>0.077141</td>\n",
              "      <td>torvalds</td>\n",
              "    </tr>\n",
              "    <tr>\n",
              "      <th>1</th>\n",
              "      <td>376498</td>\n",
              "      <td>0.041151</td>\n",
              "      <td>Tj</td>\n",
              "    </tr>\n",
              "    <tr>\n",
              "      <th>2</th>\n",
              "      <td>6240</td>\n",
              "      <td>0.033024</td>\n",
              "      <td>addyosmani</td>\n",
              "    </tr>\n",
              "    <tr>\n",
              "      <th>3</th>\n",
              "      <td>896</td>\n",
              "      <td>0.031734</td>\n",
              "      <td>JakeWharton</td>\n",
              "    </tr>\n",
              "    <tr>\n",
              "      <th>4</th>\n",
              "      <td>1779</td>\n",
              "      <td>0.030888</td>\n",
              "      <td>paulirish</td>\n",
              "    </tr>\n",
              "    <tr>\n",
              "      <th>5</th>\n",
              "      <td>417948</td>\n",
              "      <td>0.029583</td>\n",
              "      <td>gaearon</td>\n",
              "    </tr>\n",
              "    <tr>\n",
              "      <th>6</th>\n",
              "      <td>3871</td>\n",
              "      <td>0.029361</td>\n",
              "      <td>sindresorhus</td>\n",
              "    </tr>\n",
              "    <tr>\n",
              "      <th>7</th>\n",
              "      <td>616741</td>\n",
              "      <td>0.027001</td>\n",
              "      <td>ruanyf</td>\n",
              "    </tr>\n",
              "    <tr>\n",
              "      <th>8</th>\n",
              "      <td>18556</td>\n",
              "      <td>0.026356</td>\n",
              "      <td>yyx990803</td>\n",
              "    </tr>\n",
              "    <tr>\n",
              "      <th>9</th>\n",
              "      <td>796</td>\n",
              "      <td>0.021223</td>\n",
              "      <td>kennethreitz</td>\n",
              "    </tr>\n",
              "    <tr>\n",
              "      <th>10</th>\n",
              "      <td>1570</td>\n",
              "      <td>0.020961</td>\n",
              "      <td>defunkt</td>\n",
              "    </tr>\n",
              "    <tr>\n",
              "      <th>11</th>\n",
              "      <td>9236</td>\n",
              "      <td>0.020867</td>\n",
              "      <td>mojombo</td>\n",
              "    </tr>\n",
              "    <tr>\n",
              "      <th>12</th>\n",
              "      <td>1736</td>\n",
              "      <td>0.019629</td>\n",
              "      <td>douglascrockford</td>\n",
              "    </tr>\n",
              "    <tr>\n",
              "      <th>13</th>\n",
              "      <td>24452</td>\n",
              "      <td>0.018456</td>\n",
              "      <td>jeresig</td>\n",
              "    </tr>\n",
              "    <tr>\n",
              "      <th>14</th>\n",
              "      <td>13009</td>\n",
              "      <td>0.017225</td>\n",
              "      <td>mbostock</td>\n",
              "    </tr>\n",
              "  </tbody>\n",
              "</table>\n",
              "</div>"
            ],
            "text/plain": [
              "     index  in_degree_cent             login\n",
              "0     5203        0.077141          torvalds\n",
              "1   376498        0.041151                Tj\n",
              "2     6240        0.033024        addyosmani\n",
              "3      896        0.031734       JakeWharton\n",
              "4     1779        0.030888         paulirish\n",
              "5   417948        0.029583           gaearon\n",
              "6     3871        0.029361      sindresorhus\n",
              "7   616741        0.027001            ruanyf\n",
              "8    18556        0.026356         yyx990803\n",
              "9      796        0.021223      kennethreitz\n",
              "10    1570        0.020961           defunkt\n",
              "11    9236        0.020867           mojombo\n",
              "12    1736        0.019629  douglascrockford\n",
              "13   24452        0.018456           jeresig\n",
              "14   13009        0.017225          mbostock"
            ]
          },
          "metadata": {
            "tags": []
          },
          "execution_count": 102
        }
      ]
    },
    {
      "cell_type": "code",
      "metadata": {
        "id": "MKjkH1lZhp4D",
        "colab_type": "code",
        "colab": {}
      },
      "source": [
        "#save results as CSV\n",
        "df_top_in_deg_centr.to_csv('./results/1000_in_deg_centrality.csv')"
      ],
      "execution_count": 0,
      "outputs": []
    },
    {
      "cell_type": "markdown",
      "metadata": {
        "id": "PqHQzqtPBHSe",
        "colab_type": "text"
      },
      "source": [
        "## EigenCentrality"
      ]
    },
    {
      "cell_type": "code",
      "metadata": {
        "id": "nyVsp396yliz",
        "colab_type": "code",
        "colab": {}
      },
      "source": [
        "eigendeg_centr = nx.eigenvector_centrality(followers_graph)"
      ],
      "execution_count": 0,
      "outputs": []
    },
    {
      "cell_type": "code",
      "metadata": {
        "id": "N8YHHh-7BLMJ",
        "colab_type": "code",
        "colab": {}
      },
      "source": [
        "top_eigendeg_centr = get_top_values(eigendeg_centr, 1000)"
      ],
      "execution_count": 0,
      "outputs": []
    },
    {
      "cell_type": "code",
      "metadata": {
        "id": "r7SgaMabBLIn",
        "colab_type": "code",
        "colab": {}
      },
      "source": [
        "df_top_eigendeg_centr = pd.DataFrame.from_dict(data=top_eigendeg_centr, orient='index',columns=['eigen_cent'])\n",
        "df_top_eigendeg_centr['login'] = np.array(list(map(user_names.get,top_auths.keys())))\n",
        "df_top_eigendeg_centr.head()"
      ],
      "execution_count": 0,
      "outputs": []
    },
    {
      "cell_type": "code",
      "metadata": {
        "id": "kd1thuwDdJkY",
        "colab_type": "code",
        "colab": {}
      },
      "source": [
        "#save results as CSV\n",
        "df_top_eigendeg_centr.to_csv('./results/1000_eigen_centrality.csv'))"
      ],
      "execution_count": 0,
      "outputs": []
    },
    {
      "cell_type": "markdown",
      "metadata": {
        "id": "Op6ONdGwBm7r",
        "colab_type": "text"
      },
      "source": [
        "## Plot frequency distribution"
      ]
    },
    {
      "cell_type": "code",
      "metadata": {
        "id": "Sy4hg-VgBlyS",
        "colab_type": "code",
        "colab": {}
      },
      "source": [
        "#parses list of indegree values and outdegree values\n",
        "idf = (sorted(in_deg_freq.items()))\n",
        "odf = (sorted(out_deg_freq.items()))"
      ],
      "execution_count": 0,
      "outputs": []
    },
    {
      "cell_type": "code",
      "metadata": {
        "id": "aS7zWoT3BLDt",
        "colab_type": "code",
        "colab": {
          "base_uri": "https://localhost:8080/",
          "height": 700
        },
        "outputId": "bf6c54d7-6f9a-42d4-ed08-bd5cf2cc7b5f"
      },
      "source": [
        "plt.figure(figsize =(15, 10))\n",
        "plt.grid(True)\n",
        "plt.loglog([k for (k,v) in idf], [v for (k,v ) in idf], 'r-') # in-degree\n",
        "plt.loglog([k for (k,v) in odf],[v for (k,v ) in odf], 'b-')  # out-degree\n",
        "plt.legend(['In-degree', 'Out-degree'])\n",
        "plt.xlabel('Degree')\n",
        "plt.ylabel('Number of users')\n",
        "plt.title('Followers network in Github - Jan 2019')\n"
      ],
      "execution_count": 114,
      "outputs": [
        {
          "output_type": "execute_result",
          "data": {
            "text/plain": [
              "<Figure size 1080x720 with 0 Axes>"
            ]
          },
          "metadata": {
            "tags": []
          },
          "execution_count": 114
        },
        {
          "output_type": "execute_result",
          "data": {
            "text/plain": [
              "[<matplotlib.lines.Line2D at 0x7fd2109181d0>]"
            ]
          },
          "metadata": {
            "tags": []
          },
          "execution_count": 114
        },
        {
          "output_type": "execute_result",
          "data": {
            "text/plain": [
              "[<matplotlib.lines.Line2D at 0x7fd2a04020b8>]"
            ]
          },
          "metadata": {
            "tags": []
          },
          "execution_count": 114
        },
        {
          "output_type": "execute_result",
          "data": {
            "text/plain": [
              "<matplotlib.legend.Legend at 0x7fd26b308320>"
            ]
          },
          "metadata": {
            "tags": []
          },
          "execution_count": 114
        },
        {
          "output_type": "execute_result",
          "data": {
            "text/plain": [
              "Text(0.5, 0, 'Degree')"
            ]
          },
          "metadata": {
            "tags": []
          },
          "execution_count": 114
        },
        {
          "output_type": "execute_result",
          "data": {
            "text/plain": [
              "Text(0, 0.5, 'Number of users')"
            ]
          },
          "metadata": {
            "tags": []
          },
          "execution_count": 114
        },
        {
          "output_type": "execute_result",
          "data": {
            "text/plain": [
              "Text(0.5, 1.0, 'Followers network in Github - Jan 2019')"
            ]
          },
          "metadata": {
            "tags": []
          },
          "execution_count": 114
        },
        {
          "output_type": "display_data",
          "data": {
            "image/png": "[encoded data removed]",
            "text/plain": [
              "<Figure size 1080x720 with 1 Axes>"
            ]
          },
          "metadata": {
            "tags": []
          }
        }
      ]
    },
    {
      "cell_type": "code",
      "metadata": {
        "id": "QM4ckhobdiRn",
        "colab_type": "code",
        "colab": {
          "base_uri": "https://localhost:8080/",
          "height": 35
        },
        "outputId": "89196f58-6df7-46d5-b318-1665ad5d0b82"
      },
      "source": [
        "# save generated image\n",
        "plt.savefig('./results/degree_distribution_2019.png')"
      ],
      "execution_count": 115,
      "outputs": [
        {
          "output_type": "display_data",
          "data": {
            "text/plain": [
              "<Figure size 432x288 with 0 Axes>"
            ]
          },
          "metadata": {
            "tags": []
          }
        }
      ]
    }
  ]
}